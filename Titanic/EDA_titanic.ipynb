{
 "cells": [
  {
   "cell_type": "code",
   "execution_count": 1,
   "id": "e15e93d6",
   "metadata": {},
   "outputs": [],
   "source": [
    "import pandas as pd\n",
    "import numpy as np\n",
    "import matplotlib.pyplot as plt\n",
    "from scipy.stats import normaltest\n",
    "from scipy import stats"
   ]
  },
  {
   "cell_type": "markdown",
   "id": "ea8f0126",
   "metadata": {},
   "source": [
    "# Data"
   ]
  },
  {
   "cell_type": "code",
   "execution_count": 2,
   "id": "7c9aa111",
   "metadata": {},
   "outputs": [
    {
     "data": {
      "text/html": [
       "<div>\n",
       "<style scoped>\n",
       "    .dataframe tbody tr th:only-of-type {\n",
       "        vertical-align: middle;\n",
       "    }\n",
       "\n",
       "    .dataframe tbody tr th {\n",
       "        vertical-align: top;\n",
       "    }\n",
       "\n",
       "    .dataframe thead th {\n",
       "        text-align: right;\n",
       "    }\n",
       "</style>\n",
       "<table border=\"1\" class=\"dataframe\">\n",
       "  <thead>\n",
       "    <tr style=\"text-align: right;\">\n",
       "      <th></th>\n",
       "      <th>PassengerId</th>\n",
       "      <th>Survived</th>\n",
       "      <th>Pclass</th>\n",
       "      <th>Name</th>\n",
       "      <th>Sex</th>\n",
       "      <th>Age</th>\n",
       "      <th>SibSp</th>\n",
       "      <th>Parch</th>\n",
       "      <th>Ticket</th>\n",
       "      <th>Fare</th>\n",
       "      <th>Cabin</th>\n",
       "      <th>Embarked</th>\n",
       "    </tr>\n",
       "  </thead>\n",
       "  <tbody>\n",
       "    <tr>\n",
       "      <th>0</th>\n",
       "      <td>1</td>\n",
       "      <td>0</td>\n",
       "      <td>3</td>\n",
       "      <td>Braund, Mr. Owen Harris</td>\n",
       "      <td>male</td>\n",
       "      <td>22.0</td>\n",
       "      <td>1</td>\n",
       "      <td>0</td>\n",
       "      <td>A/5 21171</td>\n",
       "      <td>7.2500</td>\n",
       "      <td>NaN</td>\n",
       "      <td>S</td>\n",
       "    </tr>\n",
       "    <tr>\n",
       "      <th>1</th>\n",
       "      <td>2</td>\n",
       "      <td>1</td>\n",
       "      <td>1</td>\n",
       "      <td>Cumings, Mrs. John Bradley (Florence Briggs Th...</td>\n",
       "      <td>female</td>\n",
       "      <td>38.0</td>\n",
       "      <td>1</td>\n",
       "      <td>0</td>\n",
       "      <td>PC 17599</td>\n",
       "      <td>71.2833</td>\n",
       "      <td>C85</td>\n",
       "      <td>C</td>\n",
       "    </tr>\n",
       "    <tr>\n",
       "      <th>2</th>\n",
       "      <td>3</td>\n",
       "      <td>1</td>\n",
       "      <td>3</td>\n",
       "      <td>Heikkinen, Miss. Laina</td>\n",
       "      <td>female</td>\n",
       "      <td>26.0</td>\n",
       "      <td>0</td>\n",
       "      <td>0</td>\n",
       "      <td>STON/O2. 3101282</td>\n",
       "      <td>7.9250</td>\n",
       "      <td>NaN</td>\n",
       "      <td>S</td>\n",
       "    </tr>\n",
       "  </tbody>\n",
       "</table>\n",
       "</div>"
      ],
      "text/plain": [
       "   PassengerId  Survived  Pclass  \\\n",
       "0            1         0       3   \n",
       "1            2         1       1   \n",
       "2            3         1       3   \n",
       "\n",
       "                                                Name     Sex   Age  SibSp  \\\n",
       "0                            Braund, Mr. Owen Harris    male  22.0      1   \n",
       "1  Cumings, Mrs. John Bradley (Florence Briggs Th...  female  38.0      1   \n",
       "2                             Heikkinen, Miss. Laina  female  26.0      0   \n",
       "\n",
       "   Parch            Ticket     Fare Cabin Embarked  \n",
       "0      0         A/5 21171   7.2500   NaN        S  \n",
       "1      0          PC 17599  71.2833   C85        C  \n",
       "2      0  STON/O2. 3101282   7.9250   NaN        S  "
      ]
     },
     "execution_count": 2,
     "metadata": {},
     "output_type": "execute_result"
    }
   ],
   "source": [
    "data = pd.read_csv(\"train.csv\")\n",
    "data.head(3)"
   ]
  },
  {
   "cell_type": "code",
   "execution_count": 3,
   "id": "14a34e52",
   "metadata": {},
   "outputs": [
    {
     "data": {
      "text/html": [
       "<div>\n",
       "<style scoped>\n",
       "    .dataframe tbody tr th:only-of-type {\n",
       "        vertical-align: middle;\n",
       "    }\n",
       "\n",
       "    .dataframe tbody tr th {\n",
       "        vertical-align: top;\n",
       "    }\n",
       "\n",
       "    .dataframe thead th {\n",
       "        text-align: right;\n",
       "    }\n",
       "</style>\n",
       "<table border=\"1\" class=\"dataframe\">\n",
       "  <thead>\n",
       "    <tr style=\"text-align: right;\">\n",
       "      <th></th>\n",
       "      <th>Survived</th>\n",
       "      <th>Pclass</th>\n",
       "      <th>Sex</th>\n",
       "      <th>Age</th>\n",
       "    </tr>\n",
       "  </thead>\n",
       "  <tbody>\n",
       "    <tr>\n",
       "      <th>0</th>\n",
       "      <td>0</td>\n",
       "      <td>3</td>\n",
       "      <td>male</td>\n",
       "      <td>22.0</td>\n",
       "    </tr>\n",
       "    <tr>\n",
       "      <th>1</th>\n",
       "      <td>1</td>\n",
       "      <td>1</td>\n",
       "      <td>female</td>\n",
       "      <td>38.0</td>\n",
       "    </tr>\n",
       "    <tr>\n",
       "      <th>2</th>\n",
       "      <td>1</td>\n",
       "      <td>3</td>\n",
       "      <td>female</td>\n",
       "      <td>26.0</td>\n",
       "    </tr>\n",
       "    <tr>\n",
       "      <th>3</th>\n",
       "      <td>1</td>\n",
       "      <td>1</td>\n",
       "      <td>female</td>\n",
       "      <td>35.0</td>\n",
       "    </tr>\n",
       "    <tr>\n",
       "      <th>4</th>\n",
       "      <td>0</td>\n",
       "      <td>3</td>\n",
       "      <td>male</td>\n",
       "      <td>35.0</td>\n",
       "    </tr>\n",
       "    <tr>\n",
       "      <th>5</th>\n",
       "      <td>0</td>\n",
       "      <td>3</td>\n",
       "      <td>male</td>\n",
       "      <td>NaN</td>\n",
       "    </tr>\n",
       "  </tbody>\n",
       "</table>\n",
       "</div>"
      ],
      "text/plain": [
       "   Survived  Pclass     Sex   Age\n",
       "0         0       3    male  22.0\n",
       "1         1       1  female  38.0\n",
       "2         1       3  female  26.0\n",
       "3         1       1  female  35.0\n",
       "4         0       3    male  35.0\n",
       "5         0       3    male   NaN"
      ]
     },
     "execution_count": 3,
     "metadata": {},
     "output_type": "execute_result"
    }
   ],
   "source": [
    "data = data.drop([\"PassengerId\",\"Name\", \n",
    "                  \"Fare\", \n",
    "                  \"SibSp\", \"Parch\", \n",
    "                  \"Ticket\", \"Fare\", \n",
    "                  \"Cabin\", \"Embarked\"], axis=1)\n",
    "data.head(6)"
   ]
  },
  {
   "cell_type": "markdown",
   "id": "909639be",
   "metadata": {},
   "source": [
    "## Hipotesis test for average\n",
    "\n",
    "Hipotesis teste for data average to replace null values."
   ]
  },
  {
   "cell_type": "code",
   "execution_count": 4,
   "id": "18f99727",
   "metadata": {},
   "outputs": [
    {
     "name": "stdout",
     "output_type": "stream",
     "text": [
      "177\n"
     ]
    }
   ],
   "source": [
    "# Count null values data age:\n",
    "print(data['Age'].isnull().sum())"
   ]
  },
  {
   "cell_type": "markdown",
   "id": "4e37433d",
   "metadata": {},
   "source": [
    "We have 177 null values on the column `Age`.\n",
    "\n",
    "Replace `NaN` values to zero:"
   ]
  },
  {
   "cell_type": "code",
   "execution_count": 5,
   "id": "35586633",
   "metadata": {},
   "outputs": [
    {
     "data": {
      "text/html": [
       "<div>\n",
       "<style scoped>\n",
       "    .dataframe tbody tr th:only-of-type {\n",
       "        vertical-align: middle;\n",
       "    }\n",
       "\n",
       "    .dataframe tbody tr th {\n",
       "        vertical-align: top;\n",
       "    }\n",
       "\n",
       "    .dataframe thead th {\n",
       "        text-align: right;\n",
       "    }\n",
       "</style>\n",
       "<table border=\"1\" class=\"dataframe\">\n",
       "  <thead>\n",
       "    <tr style=\"text-align: right;\">\n",
       "      <th></th>\n",
       "      <th>Survived</th>\n",
       "      <th>Pclass</th>\n",
       "      <th>Sex</th>\n",
       "      <th>Age</th>\n",
       "    </tr>\n",
       "  </thead>\n",
       "  <tbody>\n",
       "    <tr>\n",
       "      <th>0</th>\n",
       "      <td>0</td>\n",
       "      <td>3</td>\n",
       "      <td>male</td>\n",
       "      <td>22.0</td>\n",
       "    </tr>\n",
       "    <tr>\n",
       "      <th>1</th>\n",
       "      <td>1</td>\n",
       "      <td>1</td>\n",
       "      <td>female</td>\n",
       "      <td>38.0</td>\n",
       "    </tr>\n",
       "    <tr>\n",
       "      <th>2</th>\n",
       "      <td>1</td>\n",
       "      <td>3</td>\n",
       "      <td>female</td>\n",
       "      <td>26.0</td>\n",
       "    </tr>\n",
       "    <tr>\n",
       "      <th>3</th>\n",
       "      <td>1</td>\n",
       "      <td>1</td>\n",
       "      <td>female</td>\n",
       "      <td>35.0</td>\n",
       "    </tr>\n",
       "    <tr>\n",
       "      <th>4</th>\n",
       "      <td>0</td>\n",
       "      <td>3</td>\n",
       "      <td>male</td>\n",
       "      <td>35.0</td>\n",
       "    </tr>\n",
       "    <tr>\n",
       "      <th>5</th>\n",
       "      <td>0</td>\n",
       "      <td>3</td>\n",
       "      <td>male</td>\n",
       "      <td>0.0</td>\n",
       "    </tr>\n",
       "    <tr>\n",
       "      <th>6</th>\n",
       "      <td>0</td>\n",
       "      <td>1</td>\n",
       "      <td>male</td>\n",
       "      <td>54.0</td>\n",
       "    </tr>\n",
       "  </tbody>\n",
       "</table>\n",
       "</div>"
      ],
      "text/plain": [
       "   Survived  Pclass     Sex   Age\n",
       "0         0       3    male  22.0\n",
       "1         1       1  female  38.0\n",
       "2         1       3  female  26.0\n",
       "3         1       1  female  35.0\n",
       "4         0       3    male  35.0\n",
       "5         0       3    male   0.0\n",
       "6         0       1    male  54.0"
      ]
     },
     "execution_count": 5,
     "metadata": {},
     "output_type": "execute_result"
    }
   ],
   "source": [
    "data['Age'] = data['Age'].fillna(0)\n",
    "data.head(7) "
   ]
  },
  {
   "cell_type": "code",
   "execution_count": 6,
   "id": "5b50c3d9",
   "metadata": {},
   "outputs": [],
   "source": [
    "# 95% confience\n",
    "\n",
    "conf = 0.05 "
   ]
  },
  {
   "cell_type": "code",
   "execution_count": 7,
   "id": "a6a3d10d",
   "metadata": {},
   "outputs": [
    {
     "data": {
      "text/plain": [
       "<Axes: >"
      ]
     },
     "execution_count": 7,
     "metadata": {},
     "output_type": "execute_result"
    },
    {
     "data": {
      "image/png": "[encoded data removed]",
      "text/plain": [
       "<Figure size 640x480 with 1 Axes>"
      ]
     },
     "metadata": {},
     "output_type": "display_data"
    }
   ],
   "source": [
    "# Histogran\n",
    "\n",
    "data.Age.hist(bins = 65)"
   ]
  },
  {
   "cell_type": "code",
   "execution_count": 8,
   "id": "231b0491",
   "metadata": {},
   "outputs": [
    {
     "data": {
      "text/plain": [
       "NormaltestResult(statistic=30.304727683607705, pvalue=2.6267092031270737e-07)"
      ]
     },
     "execution_count": 8,
     "metadata": {},
     "output_type": "execute_result"
    }
   ],
   "source": [
    "# Test normal\n",
    "\n",
    "normaltest(data.Age)"
   ]
  },
  {
   "cell_type": "code",
   "execution_count": 9,
   "id": "0bfac589",
   "metadata": {},
   "outputs": [
    {
     "name": "stdout",
     "output_type": "stream",
     "text": [
      "30.304727683607705\n",
      "2.6267092031270737e-07\n"
     ]
    }
   ],
   "source": [
    "# Get data\n",
    "\n",
    "stat_test, p_value = normaltest(data.Age)\n",
    "print(stat_test)\n",
    "print(p_value)"
   ]
  },
  {
   "cell_type": "markdown",
   "id": "3cba5a47",
   "metadata": {},
   "source": [
    "*Normal test is False!*"
   ]
  },
  {
   "cell_type": "markdown",
   "id": "92baad1d",
   "metadata": {},
   "source": [
    "Apparently we have a right-skewed distribution."
   ]
  },
  {
   "cell_type": "markdown",
   "id": "bafe5174",
   "metadata": {},
   "source": [
    "Now that we formally know that this is a right-skewed distribution, let's use the median as an intermediate value to substitute in the rows where we have missing values."
   ]
  },
  {
   "cell_type": "code",
   "execution_count": 11,
   "id": "629f43bf",
   "metadata": {},
   "outputs": [
    {
     "name": "stdout",
     "output_type": "stream",
     "text": [
      "Data median is equal: 24.0\n"
     ]
    }
   ],
   "source": [
    "# Data Age median\n",
    "print(f\"Data median is equal: {np.nanmedian(data['Age'])}\")"
   ]
  },
  {
   "cell_type": "code",
   "execution_count": 4,
   "id": "a89d6402",
   "metadata": {},
   "outputs": [
    {
     "data": {
      "text/html": [
       "<div>\n",
       "<style scoped>\n",
       "    .dataframe tbody tr th:only-of-type {\n",
       "        vertical-align: middle;\n",
       "    }\n",
       "\n",
       "    .dataframe tbody tr th {\n",
       "        vertical-align: top;\n",
       "    }\n",
       "\n",
       "    .dataframe thead th {\n",
       "        text-align: right;\n",
       "    }\n",
       "</style>\n",
       "<table border=\"1\" class=\"dataframe\">\n",
       "  <thead>\n",
       "    <tr style=\"text-align: right;\">\n",
       "      <th></th>\n",
       "      <th>Survived</th>\n",
       "      <th>Pclass</th>\n",
       "      <th>Sex</th>\n",
       "      <th>Age</th>\n",
       "    </tr>\n",
       "  </thead>\n",
       "  <tbody>\n",
       "    <tr>\n",
       "      <th>0</th>\n",
       "      <td>0</td>\n",
       "      <td>3</td>\n",
       "      <td>male</td>\n",
       "      <td>22.0</td>\n",
       "    </tr>\n",
       "    <tr>\n",
       "      <th>1</th>\n",
       "      <td>1</td>\n",
       "      <td>1</td>\n",
       "      <td>female</td>\n",
       "      <td>38.0</td>\n",
       "    </tr>\n",
       "    <tr>\n",
       "      <th>2</th>\n",
       "      <td>1</td>\n",
       "      <td>3</td>\n",
       "      <td>female</td>\n",
       "      <td>26.0</td>\n",
       "    </tr>\n",
       "    <tr>\n",
       "      <th>3</th>\n",
       "      <td>1</td>\n",
       "      <td>1</td>\n",
       "      <td>female</td>\n",
       "      <td>35.0</td>\n",
       "    </tr>\n",
       "    <tr>\n",
       "      <th>4</th>\n",
       "      <td>0</td>\n",
       "      <td>3</td>\n",
       "      <td>male</td>\n",
       "      <td>35.0</td>\n",
       "    </tr>\n",
       "    <tr>\n",
       "      <th>5</th>\n",
       "      <td>0</td>\n",
       "      <td>3</td>\n",
       "      <td>male</td>\n",
       "      <td>24.0</td>\n",
       "    </tr>\n",
       "    <tr>\n",
       "      <th>6</th>\n",
       "      <td>0</td>\n",
       "      <td>1</td>\n",
       "      <td>male</td>\n",
       "      <td>54.0</td>\n",
       "    </tr>\n",
       "  </tbody>\n",
       "</table>\n",
       "</div>"
      ],
      "text/plain": [
       "   Survived  Pclass     Sex   Age\n",
       "0         0       3    male  22.0\n",
       "1         1       1  female  38.0\n",
       "2         1       3  female  26.0\n",
       "3         1       1  female  35.0\n",
       "4         0       3    male  35.0\n",
       "5         0       3    male  24.0\n",
       "6         0       1    male  54.0"
      ]
     },
     "execution_count": 4,
     "metadata": {},
     "output_type": "execute_result"
    }
   ],
   "source": [
    "# Data alter\n",
    "data['Age'] = data['Age'].fillna(24)\n",
    "data.head(7) "
   ]
  },
  {
   "cell_type": "markdown",
   "id": "c50b51ad",
   "metadata": {},
   "source": [
    "# Description Variable Age"
   ]
  },
  {
   "cell_type": "markdown",
   "id": "7b504b1d",
   "metadata": {},
   "source": [
    "### Distribuition of Frequency Data Age"
   ]
  },
  {
   "cell_type": "code",
   "execution_count": 13,
   "id": "05586413",
   "metadata": {},
   "outputs": [
    {
     "name": "stdout",
     "output_type": "stream",
     "text": [
      "11\n"
     ]
    }
   ],
   "source": [
    "# To calculate number of class:\n",
    "\n",
    "def sturges(dataframe):\n",
    "    \n",
    "    k = 1 + (10/3) * np.log10(np.size(dataframe))\n",
    "    k = int(k.round(0))\n",
    "\n",
    "    return k\n",
    "\n",
    "# Number classes:\n",
    "\n",
    "print(sturges(data['Age']))"
   ]
  },
  {
   "cell_type": "code",
   "execution_count": 14,
   "id": "6be12284",
   "metadata": {},
   "outputs": [
    {
     "name": "stdout",
     "output_type": "stream",
     "text": [
      "Class(1) 0.0-6.27 Point: 3.1 frquency: 224 frequency-cml: 224\n",
      "Class(2) 7.27-13.54 Point: 10.4 frquency: 21 frequency-cml: 245\n",
      "Class(3) 14.54-20.81 Point: 17.7 frquency: 102 frequency-cml: 347\n",
      "Class(4) 21.81-28.08 Point: 24.9 frquency: 158 frequency-cml: 505\n",
      "Class(5) 29.08-35.35 Point: 32.2 frquency: 113 frequency-cml: 618\n",
      "Class(6) 36.35-42.62 Point: 39.5 frquency: 66 frequency-cml: 684\n",
      "Class(7) 43.62-49.89 Point: 46.8 frquency: 50 frequency-cml: 734\n",
      "Class(8) 50.89-57.16 Point: 54.0 frquency: 31 frequency-cml: 765\n",
      "Class(9) 58.16-64.43 Point: 61.3 frquency: 17 frequency-cml: 782\n",
      "Class(10) 65.43-71.7 Point: 68.6 frquency: 6 frequency-cml: 788\n",
      "Class(11) 72.7-78.97 Point: 75.8 frquency: 1 frequency-cml: 789\n",
      "\n",
      " Classes Confirmed Successfully!\n"
     ]
    }
   ],
   "source": [
    "# To calculate frenquency and medium point classes e definity classes.\n",
    "\n",
    "def distribuition(number_class, dataframe):\n",
    "\n",
    "\n",
    "    \"\"\"\n",
    "\n",
    "    Return classes and medium point classes and frequency classes. \n",
    "    \n",
    "\n",
    "    \"\"\"\n",
    "    \n",
    "    # Size class\n",
    "    size_class = round((np.max(data['Age']) - np.min(data['Age'])) / number_class, 2)\n",
    "\n",
    "    # min and max Class:\n",
    "    lim_i = dataframe.min()\n",
    "    lim_s = 0\n",
    "\n",
    "    # Count number Classes:\n",
    "    cout_class = 0\n",
    "\n",
    "    # Cumulative frequency\n",
    "    f_cumulative = 0\n",
    "    \n",
    "    \n",
    "    while cout_class < number_class:\n",
    "\n",
    "        cout_class+=1\n",
    "\n",
    "        lim_s = round((lim_i + size_class) - 1, 3)\n",
    "\n",
    "        \n",
    "        # Count frequency:\n",
    "        frequency = 0\n",
    "        for value in np.nditer(dataframe):\n",
    "            if value >= lim_i and value <= lim_s:\n",
    "                frequency+=1\n",
    "\n",
    "        # Cumulative frequency\n",
    "        f_cumulative+=frequency\n",
    "        \n",
    "        print(f'Class({cout_class}) {lim_i}-{lim_s} Point: {round((lim_i + lim_s) / 2, 1)} frquency: {frequency} frequency-cml: {f_cumulative}')\n",
    "\n",
    "\n",
    "        lim_i = lim_s + 1\n",
    "\n",
    "\n",
    "    return \"\\n Classes Confirmed Successfully!\"\n",
    "\n",
    "\n",
    "\n",
    "# Calculate Distribuition:\n",
    "\n",
    "print(distribuition(11, data['Age']))"
   ]
  },
  {
   "cell_type": "markdown",
   "id": "0012fdfe",
   "metadata": {},
   "source": [
    "### Histogram Relative Frequency for column data Age"
   ]
  },
  {
   "cell_type": "code",
   "execution_count": 111,
   "id": "8c87f8fb",
   "metadata": {},
   "outputs": [
    {
     "data": {
      "text/plain": [
       "[Text(0, 0, '0.053'),\n",
       " Text(0, 0, '0.024'),\n",
       " Text(0, 0, '0.141'),\n",
       " Text(0, 0, '0.346'),\n",
       " Text(0, 0, '0.127'),\n",
       " Text(0, 0, '0.073'),\n",
       " Text(0, 0, '0.067'),\n",
       " Text(0, 0, '0.027'),\n",
       " Text(0, 0, '0.019'),\n",
       " Text(0, 0, '0.007'),\n",
       " Text(0, 0, '0.001')]"
      ]
     },
     "execution_count": 111,
     "metadata": {},
     "output_type": "execute_result"
    },
    {
     "data": {
      "image/png": "[encoded data removed]",
      "text/plain": [
       "<Figure size 640x480 with 1 Axes>"
      ]
     },
     "metadata": {},
     "output_type": "display_data"
    }
   ],
   "source": [
    "\n",
    "size_data = np.size(data['Age'])\n",
    "\n",
    "frequencia_relativa = lambda i: round((i / size_data), 3)\n",
    "\n",
    "\n",
    "# x\n",
    "i = ['3,5', '10,8', '18,0', \n",
    "     '25,2', '32,5', '39,7', \n",
    "     '46,9', '54,1', '61,4', \n",
    "     '68,6', '75,8']\n",
    "\n",
    "# y:\n",
    "frequencia = [47, 21, 126, \n",
    "              308, 113, 65,\n",
    "              60, 24, 17, \n",
    "              6, 1]\n",
    "\n",
    "\n",
    "\n",
    "j = [frequencia_relativa(i) for i in frequencia]\n",
    "bar_colors = ['blue']\n",
    "\n",
    "\n",
    "fig, ax = plt.subplots()\n",
    "bar_container = ax.bar(i, j, color=bar_colors)\n",
    "ax.set(ylabel='Relative frequency (%)', \n",
    "       title='Age Of Passengers', xlabel='Age', \n",
    "       ylim=(0, 0.5))\n",
    "\n",
    "ax.bar_label(\n",
    "    bar_container)"
   ]
  },
  {
   "cell_type": "markdown",
   "id": "744ae4ee",
   "metadata": {},
   "source": [
    "60% of the passengers has age range 18 and 33 years."
   ]
  },
  {
   "cell_type": "code",
   "execution_count": 16,
   "id": "d130e58b",
   "metadata": {},
   "outputs": [
    {
     "name": "stdout",
     "output_type": "stream",
     "text": [
      "The Average Age is equal: 24.0 years.\n"
     ]
    }
   ],
   "source": [
    "# Average Ages:\n",
    "\n",
    "print(f\"The Average Age is equal: {np.average(data['Age']).round(0)} years.\")"
   ]
  },
  {
   "cell_type": "code",
   "execution_count": 17,
   "id": "d2627ef2",
   "metadata": {},
   "outputs": [
    {
     "name": "stdout",
     "output_type": "stream",
     "text": [
      "The standart desviation is equal: 18.0 years.\n"
     ]
    }
   ],
   "source": [
    "# Standart Desviation\n",
    "\n",
    "print(f\"The standart desviation is equal: {np.std(data['Age']).round(0)} years.\")"
   ]
  },
  {
   "cell_type": "code",
   "execution_count": 18,
   "id": "a62fa7f2",
   "metadata": {},
   "outputs": [
    {
     "name": "stdout",
     "output_type": "stream",
     "text": [
      "Variance: 309.0 years.\n"
     ]
    }
   ],
   "source": [
    "# Variance\n",
    "\n",
    "print(f\"Variance: {np.var(data['Age']).round(0)} years.\")"
   ]
  },
  {
   "cell_type": "code",
   "execution_count": 19,
   "id": "a8c08e25",
   "metadata": {},
   "outputs": [
    {
     "name": "stdout",
     "output_type": "stream",
     "text": [
      "The covariance is equal: 74.0%.\n"
     ]
    }
   ],
   "source": [
    "# Covariance\n",
    "\n",
    "print(f\"The covariance is equal: {((np.std(data['Age']) / np.average(data['Age'])) * 100).round(0)}%.\")"
   ]
  },
  {
   "cell_type": "markdown",
   "id": "f4b871b1",
   "metadata": {},
   "source": [
    "## Histogram Cumulative Frequency"
   ]
  },
  {
   "cell_type": "code",
   "execution_count": 96,
   "id": "5c88bd85",
   "metadata": {},
   "outputs": [
    {
     "data": {
      "image/png": "[encoded data removed]",
      "text/plain": [
       "<Figure size 640x480 with 1 Axes>"
      ]
     },
     "metadata": {},
     "output_type": "display_data"
    }
   ],
   "source": [
    "plt.plot([3.5, 10.8, 18.0, \n",
    "          25.2, 32.5, 39.7, \n",
    "          46.9, 54.1, 61.4, \n",
    "          68.6, 75.8],\n",
    "         \n",
    "         [47, 68, 194, \n",
    "          502, 615, 680, \n",
    "          740, 764, 781, \n",
    "          787, 788], \n",
    "         color='blue')\n",
    "\n",
    "plt.ylabel('Cumulative Frequency \\n (Group Passengers)')\n",
    "\n",
    "plt.xlabel('Years Old')\n",
    "plt.title('Age Of Passengers')\n",
    "\n",
    "plt.show()"
   ]
  },
  {
   "cell_type": "markdown",
   "id": "0dfd3162",
   "metadata": {},
   "source": [
    "Of the 891 passengers, approximately 600 are aged less than or equal to 30 years, that is, corresponding to 67% of the total."
   ]
  },
  {
   "cell_type": "markdown",
   "id": "ba376c98",
   "metadata": {},
   "source": [
    "<br>"
   ]
  },
  {
   "cell_type": "markdown",
   "id": "930d9df0",
   "metadata": {},
   "source": [
    "## Box-plot Column Age"
   ]
  },
  {
   "cell_type": "code",
   "execution_count": 97,
   "id": "3b899c60",
   "metadata": {},
   "outputs": [
    {
     "data": {
      "image/png": "[encoded data removed]",
      "text/plain": [
       "<Figure size 700x300 with 1 Axes>"
      ]
     },
     "metadata": {},
     "output_type": "display_data"
    }
   ],
   "source": [
    "data_1 = data['Age']\n",
    "\n",
    "data_list = [data_1]\n",
    "\n",
    "fig = plt.figure(figsize =(7, 3))\n",
    "\n",
    "ax = fig.add_subplot(111)\n",
    "\n",
    "\n",
    "# \n",
    "bp = ax.boxplot(data_list, patch_artist = True,\n",
    "notch ='True', vert = 0)\n",
    "\n",
    "\n",
    "colors = ['blue']\n",
    "\n",
    "\n",
    "for patch, color in zip(bp['boxes'], colors):\n",
    "    patch.set_facecolor(color)\n",
    "\n",
    "    \n",
    "# \n",
    "for whisker in bp['whiskers']:\n",
    "    whisker.set(color ='black',\n",
    "                linewidth = 1.5,\n",
    "                linestyle =\":\")    \n",
    "# \n",
    "for cap in bp['caps']:\n",
    "    cap.set(color ='red',\n",
    "            linewidth = 2)    \n",
    "# \n",
    "for median in bp['medians']:\n",
    "    median.set(color ='red',\n",
    "    linewidth = 3)\n",
    "    \n",
    "# \n",
    "for flier in bp['fliers']:\n",
    "    flier.set(marker ='D',\n",
    "            color ='#e7298a',\n",
    "            alpha = 0.5)\n",
    "\n",
    "# \n",
    "ax.set_yticklabels([''])\n",
    "\n",
    "# \n",
    "plt.xlabel('Years Old')\n",
    "plt.title('Age Of Passengers')\n",
    "\n",
    "# \n",
    "ax.get_xaxis().tick_bottom()\n",
    "ax.get_yaxis().tick_left()\n",
    "\n",
    "# \n",
    "plt.show()\n"
   ]
  },
  {
   "cell_type": "code",
   "execution_count": 22,
   "id": "6156ba24",
   "metadata": {},
   "outputs": [
    {
     "name": "stdout",
     "output_type": "stream",
     "text": [
      "Quantile Q1: 6.0\n"
     ]
    }
   ],
   "source": [
    "# Quantile Q1\n",
    "\n",
    "print(f\"Quantile Q1: {np.quantile(data['Age'], 1/4)}\")"
   ]
  },
  {
   "cell_type": "code",
   "execution_count": 23,
   "id": "644e825b",
   "metadata": {},
   "outputs": [
    {
     "name": "stdout",
     "output_type": "stream",
     "text": [
      "Quantile Q2: 24.0\n"
     ]
    }
   ],
   "source": [
    "# Quantile Q2\n",
    "\n",
    "print(f\"Quantile Q2: {np.quantile(data['Age'], 1/2)}\")"
   ]
  },
  {
   "cell_type": "code",
   "execution_count": 24,
   "id": "f446cd3c",
   "metadata": {},
   "outputs": [
    {
     "name": "stdout",
     "output_type": "stream",
     "text": [
      "Quantile Q3: 35.0\n"
     ]
    }
   ],
   "source": [
    "# Quantile Q3\n",
    "\n",
    "print(f\"Quantile Q3: {np.quantile(data['Age'], 3/4)}\")"
   ]
  },
  {
   "cell_type": "markdown",
   "id": "c103b47a",
   "metadata": {},
   "source": [
    "50 percent of passengers has years old bigger than or equal to 22 years and lass then 35 years."
   ]
  },
  {
   "cell_type": "markdown",
   "id": "e33f2905",
   "metadata": {},
   "source": [
    "<br>"
   ]
  },
  {
   "cell_type": "markdown",
   "id": "6102e5fe",
   "metadata": {},
   "source": [
    "# Age by Sex"
   ]
  },
  {
   "cell_type": "markdown",
   "id": "46c38532",
   "metadata": {},
   "source": [
    "### Sex: Male"
   ]
  },
  {
   "cell_type": "code",
   "execution_count": 25,
   "id": "be0f8c02",
   "metadata": {},
   "outputs": [],
   "source": [
    "# Data\n",
    "\n",
    "age_sex_m = data.loc[(data['Age'] != 0) & (data['Sex'] == 'male')]"
   ]
  },
  {
   "cell_type": "code",
   "execution_count": 26,
   "id": "c7829943",
   "metadata": {},
   "outputs": [
    {
     "name": "stdout",
     "output_type": "stream",
     "text": [
      "Average age for sex Male: 31.0\n"
     ]
    }
   ],
   "source": [
    "# Average\n",
    "\n",
    "print(f\"Average age for sex Male: {np.average(age_sex_m['Age']).round(0)}\")"
   ]
  },
  {
   "cell_type": "code",
   "execution_count": 27,
   "id": "89427009",
   "metadata": {},
   "outputs": [
    {
     "name": "stdout",
     "output_type": "stream",
     "text": [
      "Mode age for sex Male: Age\n",
      "19.0    18\n",
      "25.0    18\n",
      "28.0    18\n",
      "21.0    17\n",
      "22.0    15\n",
      "Name: count, dtype: int64\n"
     ]
    }
   ],
   "source": [
    "# Mode \n",
    "\n",
    "print(f\"Mode age for sex Male: {age_sex_m['Age'].value_counts().head(5)}\")"
   ]
  },
  {
   "cell_type": "code",
   "execution_count": 28,
   "id": "d21f6304",
   "metadata": {},
   "outputs": [
    {
     "name": "stdout",
     "output_type": "stream",
     "text": [
      "Median age for sex Male: 29.0\n"
     ]
    }
   ],
   "source": [
    "# Median\n",
    "\n",
    "print(f\"Median age for sex Male: {np.median(age_sex_m['Age'])}\")"
   ]
  },
  {
   "cell_type": "markdown",
   "id": "a4270836",
   "metadata": {},
   "source": [
    "### Sex: Female"
   ]
  },
  {
   "cell_type": "code",
   "execution_count": 29,
   "id": "aa3f75b2",
   "metadata": {},
   "outputs": [],
   "source": [
    "age_sex_f = data.loc[(data['Age'] != 0) & (data['Sex'] == 'female')]"
   ]
  },
  {
   "cell_type": "code",
   "execution_count": 30,
   "id": "72f71a62",
   "metadata": {},
   "outputs": [
    {
     "name": "stdout",
     "output_type": "stream",
     "text": [
      "Average age for sex female: 28.0\n"
     ]
    }
   ],
   "source": [
    "# Average\n",
    "\n",
    "print(f\"Average age for sex female: {np.average(age_sex_f['Age']).round(0)}\")"
   ]
  },
  {
   "cell_type": "code",
   "execution_count": 31,
   "id": "52c604c9",
   "metadata": {},
   "outputs": [
    {
     "name": "stdout",
     "output_type": "stream",
     "text": [
      "Mode age for sex female: Age\n",
      "24.0    16\n",
      "18.0    13\n",
      "22.0    12\n",
      "30.0    11\n",
      "35.0     8\n",
      "Name: count, dtype: int64\n"
     ]
    }
   ],
   "source": [
    "# Mode \n",
    "\n",
    "print(f\"Mode age for sex female: {age_sex_f['Age'].value_counts().head(5)}\")"
   ]
  },
  {
   "cell_type": "code",
   "execution_count": 32,
   "id": "1fb598f8",
   "metadata": {},
   "outputs": [
    {
     "name": "stdout",
     "output_type": "stream",
     "text": [
      "Median age for sex female: 27.0\n"
     ]
    }
   ],
   "source": [
    "# Median\n",
    "\n",
    "print(f\"Median age for sex female: {np.median(age_sex_f['Age'])}\")"
   ]
  },
  {
   "cell_type": "markdown",
   "id": "afc504a0",
   "metadata": {},
   "source": [
    "<br>"
   ]
  },
  {
   "cell_type": "markdown",
   "id": "afee615a",
   "metadata": {},
   "source": [
    "# Age by Class"
   ]
  },
  {
   "cell_type": "markdown",
   "id": "c20a38f8",
   "metadata": {},
   "source": [
    "### Class 1"
   ]
  },
  {
   "cell_type": "code",
   "execution_count": 33,
   "id": "3604ffa9",
   "metadata": {},
   "outputs": [],
   "source": [
    "# Data\n",
    "age_class_1 = data.loc[(data['Pclass'] == 1)]"
   ]
  },
  {
   "cell_type": "code",
   "execution_count": 34,
   "id": "eea87c5d",
   "metadata": {},
   "outputs": [
    {
     "name": "stdout",
     "output_type": "stream",
     "text": [
      "Average age class 1: 33.0\n"
     ]
    }
   ],
   "source": [
    "# Average\n",
    "\n",
    "print(f\"Average age class 1: {np.average(age_class_1['Age']).round(0)}\")"
   ]
  },
  {
   "cell_type": "markdown",
   "id": "fbc58320",
   "metadata": {},
   "source": [
    "The average age for the class 1 is equal 36 years."
   ]
  },
  {
   "cell_type": "code",
   "execution_count": 35,
   "id": "4704e9f7",
   "metadata": {},
   "outputs": [
    {
     "name": "stdout",
     "output_type": "stream",
     "text": [
      "Median age class 1: 35.0\n"
     ]
    }
   ],
   "source": [
    "# Median\n",
    "\n",
    "print(f\"Median age class 1: {np.median(age_class_1['Age'])}\")"
   ]
  },
  {
   "cell_type": "markdown",
   "id": "ebd9c078",
   "metadata": {},
   "source": [
    "The median age for the class 1 is equal 35 years."
   ]
  },
  {
   "cell_type": "markdown",
   "id": "a795b19c",
   "metadata": {},
   "source": [
    "### Class 2"
   ]
  },
  {
   "cell_type": "code",
   "execution_count": 36,
   "id": "6322dd31",
   "metadata": {},
   "outputs": [],
   "source": [
    "# Data\n",
    "age_class_2 = data.loc[(data['Pclass'] == 2)]"
   ]
  },
  {
   "cell_type": "code",
   "execution_count": 37,
   "id": "e5900c10",
   "metadata": {},
   "outputs": [
    {
     "name": "stdout",
     "output_type": "stream",
     "text": [
      "Average age class 1: 28.0\n"
     ]
    }
   ],
   "source": [
    "# Average\n",
    "\n",
    "print(f\"Average age class 1: {np.average(age_class_2['Age']).round(0)}\")"
   ]
  },
  {
   "cell_type": "markdown",
   "id": "bae9d626",
   "metadata": {},
   "source": [
    "The average age for the class 2 is equal 30 years."
   ]
  },
  {
   "cell_type": "code",
   "execution_count": 38,
   "id": "36dc1ae7",
   "metadata": {},
   "outputs": [
    {
     "name": "stdout",
     "output_type": "stream",
     "text": [
      "Median age class 1: 28.0\n"
     ]
    }
   ],
   "source": [
    "# Median\n",
    "\n",
    "print(f\"Median age class 1: {np.median(age_class_2['Age'])}\")"
   ]
  },
  {
   "cell_type": "markdown",
   "id": "a4c98f20",
   "metadata": {},
   "source": [
    "The median age for the class 2 is equal 28 years."
   ]
  },
  {
   "cell_type": "markdown",
   "id": "12d8fdf9",
   "metadata": {},
   "source": [
    "### Class 3"
   ]
  },
  {
   "cell_type": "code",
   "execution_count": 39,
   "id": "6a17d95c",
   "metadata": {},
   "outputs": [],
   "source": [
    "# Data\n",
    "age_class_3 = data.loc[(data['Pclass'] == 3)]"
   ]
  },
  {
   "cell_type": "code",
   "execution_count": 40,
   "id": "504da4ae",
   "metadata": {},
   "outputs": [
    {
     "name": "stdout",
     "output_type": "stream",
     "text": [
      "Average age class 1: 18.0\n"
     ]
    }
   ],
   "source": [
    "# Average\n",
    "\n",
    "print(f\"Average age class 1: {np.average(age_class_3['Age']).round(0)}\")"
   ]
  },
  {
   "cell_type": "markdown",
   "id": "aa19b7fe",
   "metadata": {},
   "source": [
    "The average age for the class 3 is equal 25 years."
   ]
  },
  {
   "cell_type": "code",
   "execution_count": 41,
   "id": "63179594",
   "metadata": {},
   "outputs": [
    {
     "name": "stdout",
     "output_type": "stream",
     "text": [
      "Median age class 1: 20.0\n"
     ]
    }
   ],
   "source": [
    "# Median\n",
    "\n",
    "print(f\"Median age class 1: {np.median(age_class_3['Age'])}\")"
   ]
  },
  {
   "cell_type": "markdown",
   "id": "844796bc",
   "metadata": {},
   "source": [
    "The median age for the class 3 is equal 24 years."
   ]
  },
  {
   "cell_type": "markdown",
   "id": "91861c6d",
   "metadata": {},
   "source": [
    "<br>"
   ]
  },
  {
   "cell_type": "markdown",
   "id": "b223f6f0",
   "metadata": {},
   "source": [
    "# Age by Survived and Deaths"
   ]
  },
  {
   "cell_type": "markdown",
   "id": "91592834",
   "metadata": {},
   "source": [
    "## Survived"
   ]
  },
  {
   "cell_type": "code",
   "execution_count": 42,
   "id": "2568f82c",
   "metadata": {},
   "outputs": [
    {
     "data": {
      "text/html": [
       "<div>\n",
       "<style scoped>\n",
       "    .dataframe tbody tr th:only-of-type {\n",
       "        vertical-align: middle;\n",
       "    }\n",
       "\n",
       "    .dataframe tbody tr th {\n",
       "        vertical-align: top;\n",
       "    }\n",
       "\n",
       "    .dataframe thead th {\n",
       "        text-align: right;\n",
       "    }\n",
       "</style>\n",
       "<table border=\"1\" class=\"dataframe\">\n",
       "  <thead>\n",
       "    <tr style=\"text-align: right;\">\n",
       "      <th></th>\n",
       "      <th>Survived</th>\n",
       "      <th>Pclass</th>\n",
       "      <th>Sex</th>\n",
       "      <th>Age</th>\n",
       "    </tr>\n",
       "  </thead>\n",
       "  <tbody>\n",
       "    <tr>\n",
       "      <th>1</th>\n",
       "      <td>1</td>\n",
       "      <td>1</td>\n",
       "      <td>female</td>\n",
       "      <td>38.0</td>\n",
       "    </tr>\n",
       "    <tr>\n",
       "      <th>2</th>\n",
       "      <td>1</td>\n",
       "      <td>3</td>\n",
       "      <td>female</td>\n",
       "      <td>26.0</td>\n",
       "    </tr>\n",
       "    <tr>\n",
       "      <th>3</th>\n",
       "      <td>1</td>\n",
       "      <td>1</td>\n",
       "      <td>female</td>\n",
       "      <td>35.0</td>\n",
       "    </tr>\n",
       "  </tbody>\n",
       "</table>\n",
       "</div>"
      ],
      "text/plain": [
       "   Survived  Pclass     Sex   Age\n",
       "1         1       1  female  38.0\n",
       "2         1       3  female  26.0\n",
       "3         1       1  female  35.0"
      ]
     },
     "execution_count": 42,
     "metadata": {},
     "output_type": "execute_result"
    }
   ],
   "source": [
    "# Data\n",
    "age_surv = data.loc[(data['Survived'] == 1)]\n",
    "age_surv.head(3)"
   ]
  },
  {
   "cell_type": "code",
   "execution_count": 43,
   "id": "b0b065ef",
   "metadata": {},
   "outputs": [
    {
     "name": "stdout",
     "output_type": "stream",
     "text": [
      "Average age survived: 24.0\n"
     ]
    }
   ],
   "source": [
    "# Average\n",
    "\n",
    "print(f\"Average age survived: {np.average(age_surv['Age']).round(0)}\")"
   ]
  },
  {
   "cell_type": "markdown",
   "id": "c53a715c",
   "metadata": {},
   "source": [
    "The average age for the survived is equal 28 years."
   ]
  },
  {
   "cell_type": "code",
   "execution_count": 44,
   "id": "d9930cca",
   "metadata": {},
   "outputs": [
    {
     "name": "stdout",
     "output_type": "stream",
     "text": [
      "Mode age for survived: Age\n",
      "0.0     52\n",
      "24.0    15\n",
      "35.0    11\n",
      "27.0    11\n",
      "36.0    11\n",
      "22.0    11\n",
      "30.0    10\n",
      "Name: count, dtype: int64\n"
     ]
    }
   ],
   "source": [
    "# Mode \n",
    "\n",
    "print(f\"Mode age for survived: {age_surv['Age'].value_counts().head(7)}\")"
   ]
  },
  {
   "cell_type": "code",
   "execution_count": 45,
   "id": "590a0e93",
   "metadata": {},
   "outputs": [
    {
     "name": "stdout",
     "output_type": "stream",
     "text": [
      "Median age survived: 25.0\n"
     ]
    }
   ],
   "source": [
    "# Median\n",
    "\n",
    "print(f\"Median age survived: {np.median(age_surv['Age'])}\")"
   ]
  },
  {
   "cell_type": "markdown",
   "id": "cc610f9f",
   "metadata": {},
   "source": [
    "The median age for the survived is equal 25 years."
   ]
  },
  {
   "cell_type": "markdown",
   "id": "c10fa1a3",
   "metadata": {},
   "source": [
    "## Deaths"
   ]
  },
  {
   "cell_type": "code",
   "execution_count": 46,
   "id": "14160279",
   "metadata": {},
   "outputs": [
    {
     "data": {
      "text/html": [
       "<div>\n",
       "<style scoped>\n",
       "    .dataframe tbody tr th:only-of-type {\n",
       "        vertical-align: middle;\n",
       "    }\n",
       "\n",
       "    .dataframe tbody tr th {\n",
       "        vertical-align: top;\n",
       "    }\n",
       "\n",
       "    .dataframe thead th {\n",
       "        text-align: right;\n",
       "    }\n",
       "</style>\n",
       "<table border=\"1\" class=\"dataframe\">\n",
       "  <thead>\n",
       "    <tr style=\"text-align: right;\">\n",
       "      <th></th>\n",
       "      <th>Survived</th>\n",
       "      <th>Pclass</th>\n",
       "      <th>Sex</th>\n",
       "      <th>Age</th>\n",
       "    </tr>\n",
       "  </thead>\n",
       "  <tbody>\n",
       "    <tr>\n",
       "      <th>0</th>\n",
       "      <td>0</td>\n",
       "      <td>3</td>\n",
       "      <td>male</td>\n",
       "      <td>22.0</td>\n",
       "    </tr>\n",
       "    <tr>\n",
       "      <th>4</th>\n",
       "      <td>0</td>\n",
       "      <td>3</td>\n",
       "      <td>male</td>\n",
       "      <td>35.0</td>\n",
       "    </tr>\n",
       "    <tr>\n",
       "      <th>5</th>\n",
       "      <td>0</td>\n",
       "      <td>3</td>\n",
       "      <td>male</td>\n",
       "      <td>0.0</td>\n",
       "    </tr>\n",
       "  </tbody>\n",
       "</table>\n",
       "</div>"
      ],
      "text/plain": [
       "   Survived  Pclass   Sex   Age\n",
       "0         0       3  male  22.0\n",
       "4         0       3  male  35.0\n",
       "5         0       3  male   0.0"
      ]
     },
     "execution_count": 46,
     "metadata": {},
     "output_type": "execute_result"
    }
   ],
   "source": [
    "# Data\n",
    "age_deaths = data.loc[(data['Survived'] == 0)]\n",
    "age_deaths.head(3)"
   ]
  },
  {
   "cell_type": "code",
   "execution_count": 47,
   "id": "6ebe044e",
   "metadata": {},
   "outputs": [
    {
     "name": "stdout",
     "output_type": "stream",
     "text": [
      "Average age of non-survivors: 24.0\n"
     ]
    }
   ],
   "source": [
    "# Average\n",
    "\n",
    "print(f\"Average age of non-survivors: {np.average(age_deaths['Age']).round(0)}\")"
   ]
  },
  {
   "cell_type": "markdown",
   "id": "eb258c20",
   "metadata": {},
   "source": [
    "The Average age for the non-survived is equal 29 years."
   ]
  },
  {
   "cell_type": "code",
   "execution_count": 48,
   "id": "7d4c4fe0",
   "metadata": {},
   "outputs": [
    {
     "name": "stdout",
     "output_type": "stream",
     "text": [
      "Mode age for survived: Age\n",
      "0.0     125\n",
      "21.0     19\n",
      "28.0     18\n",
      "25.0     17\n",
      "18.0     17\n",
      "22.0     16\n",
      "19.0     16\n",
      "Name: count, dtype: int64\n"
     ]
    }
   ],
   "source": [
    "# Mode \n",
    "\n",
    "print(f\"Mode age for survived: {age_deaths['Age'].value_counts().head(7)}\")"
   ]
  },
  {
   "cell_type": "code",
   "execution_count": 49,
   "id": "ffa0db36",
   "metadata": {},
   "outputs": [
    {
     "name": "stdout",
     "output_type": "stream",
     "text": [
      "Median age of non-survivors: 24.0\n"
     ]
    }
   ],
   "source": [
    "# Median\n",
    "\n",
    "print(f\"Median age of non-survivors: {np.median(age_deaths['Age'])}\")"
   ]
  },
  {
   "cell_type": "markdown",
   "id": "2fe73ade",
   "metadata": {},
   "source": [
    "The median age for the non-survived is equal 24 years."
   ]
  },
  {
   "cell_type": "markdown",
   "id": "d6ec9cbc",
   "metadata": {},
   "source": [
    "<br>"
   ]
  },
  {
   "cell_type": "markdown",
   "id": "cad335ef",
   "metadata": {},
   "source": [
    "# Age by Sex and Class"
   ]
  },
  {
   "cell_type": "markdown",
   "id": "26435f77",
   "metadata": {},
   "source": [
    "### Sex: Male | Class: Class 1"
   ]
  },
  {
   "cell_type": "code",
   "execution_count": 50,
   "id": "2058a06d",
   "metadata": {},
   "outputs": [
    {
     "data": {
      "text/html": [
       "<div>\n",
       "<style scoped>\n",
       "    .dataframe tbody tr th:only-of-type {\n",
       "        vertical-align: middle;\n",
       "    }\n",
       "\n",
       "    .dataframe tbody tr th {\n",
       "        vertical-align: top;\n",
       "    }\n",
       "\n",
       "    .dataframe thead th {\n",
       "        text-align: right;\n",
       "    }\n",
       "</style>\n",
       "<table border=\"1\" class=\"dataframe\">\n",
       "  <thead>\n",
       "    <tr style=\"text-align: right;\">\n",
       "      <th></th>\n",
       "      <th>Survived</th>\n",
       "      <th>Pclass</th>\n",
       "      <th>Sex</th>\n",
       "      <th>Age</th>\n",
       "    </tr>\n",
       "  </thead>\n",
       "  <tbody>\n",
       "    <tr>\n",
       "      <th>6</th>\n",
       "      <td>0</td>\n",
       "      <td>1</td>\n",
       "      <td>male</td>\n",
       "      <td>54.0</td>\n",
       "    </tr>\n",
       "    <tr>\n",
       "      <th>23</th>\n",
       "      <td>1</td>\n",
       "      <td>1</td>\n",
       "      <td>male</td>\n",
       "      <td>28.0</td>\n",
       "    </tr>\n",
       "    <tr>\n",
       "      <th>27</th>\n",
       "      <td>0</td>\n",
       "      <td>1</td>\n",
       "      <td>male</td>\n",
       "      <td>19.0</td>\n",
       "    </tr>\n",
       "  </tbody>\n",
       "</table>\n",
       "</div>"
      ],
      "text/plain": [
       "    Survived  Pclass   Sex   Age\n",
       "6          0       1  male  54.0\n",
       "23         1       1  male  28.0\n",
       "27         0       1  male  19.0"
      ]
     },
     "execution_count": 50,
     "metadata": {},
     "output_type": "execute_result"
    }
   ],
   "source": [
    "age_sex_class = data.loc[(data['Sex'] == 'male') & (data['Pclass'] == 1)]\n",
    "age_sex_class.head(3)"
   ]
  },
  {
   "cell_type": "code",
   "execution_count": 51,
   "id": "93c1d465",
   "metadata": {},
   "outputs": [
    {
     "name": "stdout",
     "output_type": "stream",
     "text": [
      "Average age by sex and class: 34.0\n"
     ]
    }
   ],
   "source": [
    "# Average\n",
    "\n",
    "print(f\"Average age by sex and class: {np.average(age_sex_class['Age']).round(0)}\")"
   ]
  },
  {
   "cell_type": "markdown",
   "id": "6b4ee2db",
   "metadata": {},
   "source": [
    "The average age for the class 1 and sex male is equal 38 years."
   ]
  },
  {
   "cell_type": "code",
   "execution_count": 52,
   "id": "906f5648",
   "metadata": {},
   "outputs": [
    {
     "name": "stdout",
     "output_type": "stream",
     "text": [
      "Median age by sex and class: 36.0\n"
     ]
    }
   ],
   "source": [
    "# Median\n",
    "\n",
    "print(f\"Median age by sex and class: {np.median(age_sex_class['Age'])}\")"
   ]
  },
  {
   "cell_type": "markdown",
   "id": "6a651aed",
   "metadata": {},
   "source": [
    "The median age for the class 1 and sex male is equal 36 years."
   ]
  },
  {
   "cell_type": "markdown",
   "id": "7a8412a9",
   "metadata": {},
   "source": [
    "### Sex: Female | Class: Class 1"
   ]
  },
  {
   "cell_type": "code",
   "execution_count": 53,
   "id": "65d0fe4f",
   "metadata": {},
   "outputs": [
    {
     "data": {
      "text/html": [
       "<div>\n",
       "<style scoped>\n",
       "    .dataframe tbody tr th:only-of-type {\n",
       "        vertical-align: middle;\n",
       "    }\n",
       "\n",
       "    .dataframe tbody tr th {\n",
       "        vertical-align: top;\n",
       "    }\n",
       "\n",
       "    .dataframe thead th {\n",
       "        text-align: right;\n",
       "    }\n",
       "</style>\n",
       "<table border=\"1\" class=\"dataframe\">\n",
       "  <thead>\n",
       "    <tr style=\"text-align: right;\">\n",
       "      <th></th>\n",
       "      <th>Survived</th>\n",
       "      <th>Pclass</th>\n",
       "      <th>Sex</th>\n",
       "      <th>Age</th>\n",
       "    </tr>\n",
       "  </thead>\n",
       "  <tbody>\n",
       "    <tr>\n",
       "      <th>1</th>\n",
       "      <td>1</td>\n",
       "      <td>1</td>\n",
       "      <td>female</td>\n",
       "      <td>38.0</td>\n",
       "    </tr>\n",
       "    <tr>\n",
       "      <th>3</th>\n",
       "      <td>1</td>\n",
       "      <td>1</td>\n",
       "      <td>female</td>\n",
       "      <td>35.0</td>\n",
       "    </tr>\n",
       "    <tr>\n",
       "      <th>11</th>\n",
       "      <td>1</td>\n",
       "      <td>1</td>\n",
       "      <td>female</td>\n",
       "      <td>58.0</td>\n",
       "    </tr>\n",
       "  </tbody>\n",
       "</table>\n",
       "</div>"
      ],
      "text/plain": [
       "    Survived  Pclass     Sex   Age\n",
       "1          1       1  female  38.0\n",
       "3          1       1  female  35.0\n",
       "11         1       1  female  58.0"
      ]
     },
     "execution_count": 53,
     "metadata": {},
     "output_type": "execute_result"
    }
   ],
   "source": [
    "age_sex_f_class = data.loc[(data['Sex'] == 'female') & (data['Pclass'] == 1)]\n",
    "age_sex_f_class.head(3)"
   ]
  },
  {
   "cell_type": "code",
   "execution_count": 54,
   "id": "bdee78a2",
   "metadata": {},
   "outputs": [
    {
     "name": "stdout",
     "output_type": "stream",
     "text": [
      "Average age by sex and class: 31.0\n"
     ]
    }
   ],
   "source": [
    "# Average\n",
    "\n",
    "print(f\"Average age by sex and class: {np.average(age_sex_f_class['Age']).round(0)}\")"
   ]
  },
  {
   "cell_type": "markdown",
   "id": "4b0ec81b",
   "metadata": {},
   "source": [
    "The average age for the class 1 and sex male is equal 34 years."
   ]
  },
  {
   "cell_type": "code",
   "execution_count": 55,
   "id": "d4b6ae82",
   "metadata": {},
   "outputs": [
    {
     "name": "stdout",
     "output_type": "stream",
     "text": [
      "Median age by sex and class: 36.0\n"
     ]
    }
   ],
   "source": [
    "# Median\n",
    "\n",
    "print(f\"Median age by sex and class: {np.median(age_sex_class['Age'])}\")"
   ]
  },
  {
   "cell_type": "markdown",
   "id": "cd9e03e4",
   "metadata": {},
   "source": [
    "The median age for the class 1 and sex male is equal 36 years."
   ]
  },
  {
   "cell_type": "markdown",
   "id": "ba3ddb99",
   "metadata": {},
   "source": [
    "### Sex: Male | Class: Class 2"
   ]
  },
  {
   "cell_type": "code",
   "execution_count": 56,
   "id": "050ff270",
   "metadata": {},
   "outputs": [
    {
     "data": {
      "text/html": [
       "<div>\n",
       "<style scoped>\n",
       "    .dataframe tbody tr th:only-of-type {\n",
       "        vertical-align: middle;\n",
       "    }\n",
       "\n",
       "    .dataframe tbody tr th {\n",
       "        vertical-align: top;\n",
       "    }\n",
       "\n",
       "    .dataframe thead th {\n",
       "        text-align: right;\n",
       "    }\n",
       "</style>\n",
       "<table border=\"1\" class=\"dataframe\">\n",
       "  <thead>\n",
       "    <tr style=\"text-align: right;\">\n",
       "      <th></th>\n",
       "      <th>Survived</th>\n",
       "      <th>Pclass</th>\n",
       "      <th>Sex</th>\n",
       "      <th>Age</th>\n",
       "    </tr>\n",
       "  </thead>\n",
       "  <tbody>\n",
       "    <tr>\n",
       "      <th>17</th>\n",
       "      <td>1</td>\n",
       "      <td>2</td>\n",
       "      <td>male</td>\n",
       "      <td>0.0</td>\n",
       "    </tr>\n",
       "    <tr>\n",
       "      <th>20</th>\n",
       "      <td>0</td>\n",
       "      <td>2</td>\n",
       "      <td>male</td>\n",
       "      <td>35.0</td>\n",
       "    </tr>\n",
       "    <tr>\n",
       "      <th>21</th>\n",
       "      <td>1</td>\n",
       "      <td>2</td>\n",
       "      <td>male</td>\n",
       "      <td>34.0</td>\n",
       "    </tr>\n",
       "  </tbody>\n",
       "</table>\n",
       "</div>"
      ],
      "text/plain": [
       "    Survived  Pclass   Sex   Age\n",
       "17         1       2  male   0.0\n",
       "20         0       2  male  35.0\n",
       "21         1       2  male  34.0"
      ]
     },
     "execution_count": 56,
     "metadata": {},
     "output_type": "execute_result"
    }
   ],
   "source": [
    "age_sex_class_2 = data.loc[(data['Sex'] == 'male') & (data['Pclass'] == 2)]\n",
    "age_sex_class_2.head(3)"
   ]
  },
  {
   "cell_type": "code",
   "execution_count": 57,
   "id": "a9c6cddf",
   "metadata": {},
   "outputs": [
    {
     "name": "stdout",
     "output_type": "stream",
     "text": [
      "Average age by sex and class: 28.0\n"
     ]
    }
   ],
   "source": [
    "# Average\n",
    "\n",
    "print(f\"Average age by sex and class: {np.average(age_sex_class_2['Age']).round(0)}\")"
   ]
  },
  {
   "cell_type": "markdown",
   "id": "c540b601",
   "metadata": {},
   "source": [
    "The average age for the class 1 and sex male is equal 30 years."
   ]
  },
  {
   "cell_type": "code",
   "execution_count": 58,
   "id": "fd308d24",
   "metadata": {},
   "outputs": [
    {
     "name": "stdout",
     "output_type": "stream",
     "text": [
      "Median age by sex and class: 29.0\n"
     ]
    }
   ],
   "source": [
    "# Median\n",
    "\n",
    "print(f\"Median age by sex and class: {np.median(age_sex_class_2['Age'])}\")"
   ]
  },
  {
   "cell_type": "markdown",
   "id": "187427c5",
   "metadata": {},
   "source": [
    "The median age for the class 1 and sex male is equal 29 years."
   ]
  },
  {
   "cell_type": "markdown",
   "id": "88a5abd1",
   "metadata": {},
   "source": [
    "### Sex: Female | Class: Class 2"
   ]
  },
  {
   "cell_type": "code",
   "execution_count": 59,
   "id": "1d393fca",
   "metadata": {},
   "outputs": [
    {
     "data": {
      "text/html": [
       "<div>\n",
       "<style scoped>\n",
       "    .dataframe tbody tr th:only-of-type {\n",
       "        vertical-align: middle;\n",
       "    }\n",
       "\n",
       "    .dataframe tbody tr th {\n",
       "        vertical-align: top;\n",
       "    }\n",
       "\n",
       "    .dataframe thead th {\n",
       "        text-align: right;\n",
       "    }\n",
       "</style>\n",
       "<table border=\"1\" class=\"dataframe\">\n",
       "  <thead>\n",
       "    <tr style=\"text-align: right;\">\n",
       "      <th></th>\n",
       "      <th>Survived</th>\n",
       "      <th>Pclass</th>\n",
       "      <th>Sex</th>\n",
       "      <th>Age</th>\n",
       "    </tr>\n",
       "  </thead>\n",
       "  <tbody>\n",
       "    <tr>\n",
       "      <th>9</th>\n",
       "      <td>1</td>\n",
       "      <td>2</td>\n",
       "      <td>female</td>\n",
       "      <td>14.0</td>\n",
       "    </tr>\n",
       "    <tr>\n",
       "      <th>15</th>\n",
       "      <td>1</td>\n",
       "      <td>2</td>\n",
       "      <td>female</td>\n",
       "      <td>55.0</td>\n",
       "    </tr>\n",
       "    <tr>\n",
       "      <th>41</th>\n",
       "      <td>0</td>\n",
       "      <td>2</td>\n",
       "      <td>female</td>\n",
       "      <td>27.0</td>\n",
       "    </tr>\n",
       "  </tbody>\n",
       "</table>\n",
       "</div>"
      ],
      "text/plain": [
       "    Survived  Pclass     Sex   Age\n",
       "9          1       2  female  14.0\n",
       "15         1       2  female  55.0\n",
       "41         0       2  female  27.0"
      ]
     },
     "execution_count": 59,
     "metadata": {},
     "output_type": "execute_result"
    }
   ],
   "source": [
    "# Data\n",
    "age_sex_f_class_2 = data.loc[(data['Sex'] == 'female') & (data['Pclass'] == 2)]\n",
    "age_sex_f_class_2.head(3)"
   ]
  },
  {
   "cell_type": "code",
   "execution_count": 60,
   "id": "e8f875c9",
   "metadata": {},
   "outputs": [
    {
     "name": "stdout",
     "output_type": "stream",
     "text": [
      "Average age by sex and class: 28.0\n"
     ]
    }
   ],
   "source": [
    "# Average\n",
    "\n",
    "print(f\"Average age by sex and class: {np.average(age_sex_f_class_2['Age']).round(0)}\")"
   ]
  },
  {
   "cell_type": "markdown",
   "id": "2d231791",
   "metadata": {},
   "source": [
    "The average age for the class 2 and sex female is equal 29 years."
   ]
  },
  {
   "cell_type": "code",
   "execution_count": 61,
   "id": "c2842402",
   "metadata": {},
   "outputs": [
    {
     "name": "stdout",
     "output_type": "stream",
     "text": [
      "Median age by sex and class: 29.0\n"
     ]
    }
   ],
   "source": [
    "# Median\n",
    "\n",
    "print(f\"Median age by sex and class: {np.median(age_sex_class_2['Age'])}\")"
   ]
  },
  {
   "cell_type": "markdown",
   "id": "a1010ca2",
   "metadata": {},
   "source": [
    "The median age for the class 2 and sex female is equal 29 years."
   ]
  },
  {
   "cell_type": "markdown",
   "id": "a321f77d",
   "metadata": {},
   "source": [
    "### Sex: Male | Class: Class 3"
   ]
  },
  {
   "cell_type": "code",
   "execution_count": 62,
   "id": "38e7570f",
   "metadata": {},
   "outputs": [
    {
     "data": {
      "text/html": [
       "<div>\n",
       "<style scoped>\n",
       "    .dataframe tbody tr th:only-of-type {\n",
       "        vertical-align: middle;\n",
       "    }\n",
       "\n",
       "    .dataframe tbody tr th {\n",
       "        vertical-align: top;\n",
       "    }\n",
       "\n",
       "    .dataframe thead th {\n",
       "        text-align: right;\n",
       "    }\n",
       "</style>\n",
       "<table border=\"1\" class=\"dataframe\">\n",
       "  <thead>\n",
       "    <tr style=\"text-align: right;\">\n",
       "      <th></th>\n",
       "      <th>Survived</th>\n",
       "      <th>Pclass</th>\n",
       "      <th>Sex</th>\n",
       "      <th>Age</th>\n",
       "    </tr>\n",
       "  </thead>\n",
       "  <tbody>\n",
       "    <tr>\n",
       "      <th>0</th>\n",
       "      <td>0</td>\n",
       "      <td>3</td>\n",
       "      <td>male</td>\n",
       "      <td>22.0</td>\n",
       "    </tr>\n",
       "    <tr>\n",
       "      <th>4</th>\n",
       "      <td>0</td>\n",
       "      <td>3</td>\n",
       "      <td>male</td>\n",
       "      <td>35.0</td>\n",
       "    </tr>\n",
       "    <tr>\n",
       "      <th>5</th>\n",
       "      <td>0</td>\n",
       "      <td>3</td>\n",
       "      <td>male</td>\n",
       "      <td>0.0</td>\n",
       "    </tr>\n",
       "  </tbody>\n",
       "</table>\n",
       "</div>"
      ],
      "text/plain": [
       "   Survived  Pclass   Sex   Age\n",
       "0         0       3  male  22.0\n",
       "4         0       3  male  35.0\n",
       "5         0       3  male   0.0"
      ]
     },
     "execution_count": 62,
     "metadata": {},
     "output_type": "execute_result"
    }
   ],
   "source": [
    "# Data\n",
    "age_sex_class_3 = data.loc[(data['Sex'] == 'male') & (data['Pclass'] == 3)]\n",
    "age_sex_class_3.head(3)"
   ]
  },
  {
   "cell_type": "code",
   "execution_count": 63,
   "id": "7fd7f70e",
   "metadata": {},
   "outputs": [
    {
     "name": "stdout",
     "output_type": "stream",
     "text": [
      "Average age by sex and class: 19.0\n"
     ]
    }
   ],
   "source": [
    "# Average\n",
    "\n",
    "print(f\"Average age by sex and class: {np.average(age_sex_class_3['Age']).round(0)}\")"
   ]
  },
  {
   "cell_type": "markdown",
   "id": "9b5df0fd",
   "metadata": {},
   "source": [
    "The average age for the class 3 and sex male is equal 26 years."
   ]
  },
  {
   "cell_type": "code",
   "execution_count": 64,
   "id": "2cd470ca",
   "metadata": {},
   "outputs": [
    {
     "name": "stdout",
     "output_type": "stream",
     "text": [
      "Median age by sex and class: 21.0\n"
     ]
    }
   ],
   "source": [
    "# Median\n",
    "\n",
    "print(f\"Median age by sex and class: {np.median(age_sex_class_3['Age'])}\")"
   ]
  },
  {
   "cell_type": "markdown",
   "id": "63899a0f",
   "metadata": {},
   "source": [
    "The median age for the class 3 and sex male is equal 24 years."
   ]
  },
  {
   "cell_type": "markdown",
   "id": "638484b7",
   "metadata": {},
   "source": [
    "### Sex: Female | Class: Class 3"
   ]
  },
  {
   "cell_type": "code",
   "execution_count": 65,
   "id": "bcab2e14",
   "metadata": {},
   "outputs": [
    {
     "data": {
      "text/html": [
       "<div>\n",
       "<style scoped>\n",
       "    .dataframe tbody tr th:only-of-type {\n",
       "        vertical-align: middle;\n",
       "    }\n",
       "\n",
       "    .dataframe tbody tr th {\n",
       "        vertical-align: top;\n",
       "    }\n",
       "\n",
       "    .dataframe thead th {\n",
       "        text-align: right;\n",
       "    }\n",
       "</style>\n",
       "<table border=\"1\" class=\"dataframe\">\n",
       "  <thead>\n",
       "    <tr style=\"text-align: right;\">\n",
       "      <th></th>\n",
       "      <th>Survived</th>\n",
       "      <th>Pclass</th>\n",
       "      <th>Sex</th>\n",
       "      <th>Age</th>\n",
       "    </tr>\n",
       "  </thead>\n",
       "  <tbody>\n",
       "    <tr>\n",
       "      <th>2</th>\n",
       "      <td>1</td>\n",
       "      <td>3</td>\n",
       "      <td>female</td>\n",
       "      <td>26.0</td>\n",
       "    </tr>\n",
       "    <tr>\n",
       "      <th>8</th>\n",
       "      <td>1</td>\n",
       "      <td>3</td>\n",
       "      <td>female</td>\n",
       "      <td>27.0</td>\n",
       "    </tr>\n",
       "    <tr>\n",
       "      <th>10</th>\n",
       "      <td>1</td>\n",
       "      <td>3</td>\n",
       "      <td>female</td>\n",
       "      <td>4.0</td>\n",
       "    </tr>\n",
       "  </tbody>\n",
       "</table>\n",
       "</div>"
      ],
      "text/plain": [
       "    Survived  Pclass     Sex   Age\n",
       "2          1       3  female  26.0\n",
       "8          1       3  female  27.0\n",
       "10         1       3  female   4.0"
      ]
     },
     "execution_count": 65,
     "metadata": {},
     "output_type": "execute_result"
    }
   ],
   "source": [
    "# Data\n",
    "age_sex_f_class_3 = data.loc[(data['Sex'] == 'female') & (data['Pclass'] == 3)]\n",
    "age_sex_f_class_3.head(3)"
   ]
  },
  {
   "cell_type": "code",
   "execution_count": 66,
   "id": "429a8f55",
   "metadata": {},
   "outputs": [
    {
     "name": "stdout",
     "output_type": "stream",
     "text": [
      "Average age by sex and class: 15.0\n"
     ]
    }
   ],
   "source": [
    "# Average\n",
    "\n",
    "print(f\"Average age by sex and class: {np.average(age_sex_f_class_3['Age']).round(0)}\")"
   ]
  },
  {
   "cell_type": "markdown",
   "id": "ce52cc0f",
   "metadata": {},
   "source": [
    "The average age for the class 3 and sex female is equal 22 years."
   ]
  },
  {
   "cell_type": "code",
   "execution_count": 67,
   "id": "bea07d2a",
   "metadata": {},
   "outputs": [
    {
     "name": "stdout",
     "output_type": "stream",
     "text": [
      "Median age by sex and class: 21.0\n"
     ]
    }
   ],
   "source": [
    "# Median\n",
    "\n",
    "print(f\"Median age by sex and class: {np.median(age_sex_class_3['Age'])}\")"
   ]
  },
  {
   "cell_type": "markdown",
   "id": "659a4665",
   "metadata": {},
   "source": [
    "The median age for the class 3 and sex female is equal 24 years."
   ]
  },
  {
   "cell_type": "markdown",
   "id": "51d5fca8",
   "metadata": {},
   "source": [
    "<br>"
   ]
  },
  {
   "cell_type": "markdown",
   "id": "cb2ed055",
   "metadata": {},
   "source": [
    "# Age and Sex by Class and Survived: Yes/No"
   ]
  },
  {
   "cell_type": "markdown",
   "id": "ec606bc4",
   "metadata": {},
   "source": [
    "### Sex: Male | Class: Class 1 | Survived: Yes"
   ]
  },
  {
   "cell_type": "code",
   "execution_count": 68,
   "id": "3321a2fd",
   "metadata": {},
   "outputs": [
    {
     "data": {
      "text/html": [
       "<div>\n",
       "<style scoped>\n",
       "    .dataframe tbody tr th:only-of-type {\n",
       "        vertical-align: middle;\n",
       "    }\n",
       "\n",
       "    .dataframe tbody tr th {\n",
       "        vertical-align: top;\n",
       "    }\n",
       "\n",
       "    .dataframe thead th {\n",
       "        text-align: right;\n",
       "    }\n",
       "</style>\n",
       "<table border=\"1\" class=\"dataframe\">\n",
       "  <thead>\n",
       "    <tr style=\"text-align: right;\">\n",
       "      <th></th>\n",
       "      <th>Survived</th>\n",
       "      <th>Pclass</th>\n",
       "      <th>Sex</th>\n",
       "      <th>Age</th>\n",
       "    </tr>\n",
       "  </thead>\n",
       "  <tbody>\n",
       "    <tr>\n",
       "      <th>23</th>\n",
       "      <td>1</td>\n",
       "      <td>1</td>\n",
       "      <td>male</td>\n",
       "      <td>28.0</td>\n",
       "    </tr>\n",
       "    <tr>\n",
       "      <th>55</th>\n",
       "      <td>1</td>\n",
       "      <td>1</td>\n",
       "      <td>male</td>\n",
       "      <td>0.0</td>\n",
       "    </tr>\n",
       "    <tr>\n",
       "      <th>97</th>\n",
       "      <td>1</td>\n",
       "      <td>1</td>\n",
       "      <td>male</td>\n",
       "      <td>23.0</td>\n",
       "    </tr>\n",
       "  </tbody>\n",
       "</table>\n",
       "</div>"
      ],
      "text/plain": [
       "    Survived  Pclass   Sex   Age\n",
       "23         1       1  male  28.0\n",
       "55         1       1  male   0.0\n",
       "97         1       1  male  23.0"
      ]
     },
     "execution_count": 68,
     "metadata": {},
     "output_type": "execute_result"
    }
   ],
   "source": [
    "# Data\n",
    "a_s_f_c1_y = data.loc[(data['Sex'] == 'male') & (data['Pclass'] == 1) & (data['Survived'] == 1)]\n",
    "a_s_f_c1_y.head(3)"
   ]
  },
  {
   "cell_type": "code",
   "execution_count": 69,
   "id": "1f29d76b",
   "metadata": {},
   "outputs": [
    {
     "name": "stdout",
     "output_type": "stream",
     "text": [
      "Average age of survivors by sex and class: 32.0\n"
     ]
    }
   ],
   "source": [
    "# Average\n",
    "\n",
    "print(f\"Average age of survivors by sex and class: {np.average(a_s_f_c1_y['Age']).round(0)}\")"
   ]
  },
  {
   "cell_type": "markdown",
   "id": "7714493d",
   "metadata": {},
   "source": [
    "The average age survivors for males and class 1 is 35 years."
   ]
  },
  {
   "cell_type": "code",
   "execution_count": 70,
   "id": "dd17efda",
   "metadata": {},
   "outputs": [
    {
     "name": "stdout",
     "output_type": "stream",
     "text": [
      "Median age of survivors by sex and class: 35.0\n"
     ]
    }
   ],
   "source": [
    "# Median\n",
    "\n",
    "print(f\"Median age of survivors by sex and class: {np.median(a_s_f_c1_y['Age']).round(0)}\")"
   ]
  },
  {
   "cell_type": "markdown",
   "id": "86ccec24",
   "metadata": {},
   "source": [
    "The median age survivors for males and class 1 is 35 years."
   ]
  },
  {
   "cell_type": "markdown",
   "id": "02f4c1bb",
   "metadata": {},
   "source": [
    "### Sex: Female | Class: Class 1 | Survived: Yes"
   ]
  },
  {
   "cell_type": "code",
   "execution_count": 71,
   "id": "984d15e8",
   "metadata": {},
   "outputs": [
    {
     "data": {
      "text/html": [
       "<div>\n",
       "<style scoped>\n",
       "    .dataframe tbody tr th:only-of-type {\n",
       "        vertical-align: middle;\n",
       "    }\n",
       "\n",
       "    .dataframe tbody tr th {\n",
       "        vertical-align: top;\n",
       "    }\n",
       "\n",
       "    .dataframe thead th {\n",
       "        text-align: right;\n",
       "    }\n",
       "</style>\n",
       "<table border=\"1\" class=\"dataframe\">\n",
       "  <thead>\n",
       "    <tr style=\"text-align: right;\">\n",
       "      <th></th>\n",
       "      <th>Survived</th>\n",
       "      <th>Pclass</th>\n",
       "      <th>Sex</th>\n",
       "      <th>Age</th>\n",
       "    </tr>\n",
       "  </thead>\n",
       "  <tbody>\n",
       "    <tr>\n",
       "      <th>1</th>\n",
       "      <td>1</td>\n",
       "      <td>1</td>\n",
       "      <td>female</td>\n",
       "      <td>38.0</td>\n",
       "    </tr>\n",
       "    <tr>\n",
       "      <th>3</th>\n",
       "      <td>1</td>\n",
       "      <td>1</td>\n",
       "      <td>female</td>\n",
       "      <td>35.0</td>\n",
       "    </tr>\n",
       "    <tr>\n",
       "      <th>11</th>\n",
       "      <td>1</td>\n",
       "      <td>1</td>\n",
       "      <td>female</td>\n",
       "      <td>58.0</td>\n",
       "    </tr>\n",
       "  </tbody>\n",
       "</table>\n",
       "</div>"
      ],
      "text/plain": [
       "    Survived  Pclass     Sex   Age\n",
       "1          1       1  female  38.0\n",
       "3          1       1  female  35.0\n",
       "11         1       1  female  58.0"
      ]
     },
     "execution_count": 71,
     "metadata": {},
     "output_type": "execute_result"
    }
   ],
   "source": [
    "# Data\n",
    "a_s_f_c1_y_f = data.loc[(data['Sex'] == 'female') & (data['Pclass'] == 1) & (data['Survived'] == 1)]\n",
    "a_s_f_c1_y_f.head(3)"
   ]
  },
  {
   "cell_type": "code",
   "execution_count": 72,
   "id": "e7fcedc5",
   "metadata": {},
   "outputs": [
    {
     "name": "stdout",
     "output_type": "stream",
     "text": [
      "Average age survivors by sex and class: 31.0\n"
     ]
    }
   ],
   "source": [
    "# Average\n",
    "\n",
    "print(f\"Average age survivors by sex and class: {np.average(a_s_f_c1_y_f['Age']).round(0)}\")"
   ]
  },
  {
   "cell_type": "markdown",
   "id": "d4e3c8c5",
   "metadata": {},
   "source": [
    "The average age survivors females and class 1 is 34 years."
   ]
  },
  {
   "cell_type": "code",
   "execution_count": 73,
   "id": "8e0eaf5f",
   "metadata": {},
   "outputs": [
    {
     "name": "stdout",
     "output_type": "stream",
     "text": [
      "Median age survivors by sex and class: 33.0\n"
     ]
    }
   ],
   "source": [
    "# Median\n",
    "\n",
    "print(f\"Median age survivors by sex and class: {np.median(a_s_f_c1_y_f['Age']).round(0)}\")"
   ]
  },
  {
   "cell_type": "markdown",
   "id": "737b3bd9",
   "metadata": {},
   "source": [
    "The median age survivors females and class 1 is 33 years."
   ]
  },
  {
   "cell_type": "markdown",
   "id": "3ba5485e",
   "metadata": {},
   "source": [
    "### Sex: Male | Class: Class 1 | Survived: No"
   ]
  },
  {
   "cell_type": "code",
   "execution_count": 74,
   "id": "99cc7bd9",
   "metadata": {},
   "outputs": [
    {
     "data": {
      "text/html": [
       "<div>\n",
       "<style scoped>\n",
       "    .dataframe tbody tr th:only-of-type {\n",
       "        vertical-align: middle;\n",
       "    }\n",
       "\n",
       "    .dataframe tbody tr th {\n",
       "        vertical-align: top;\n",
       "    }\n",
       "\n",
       "    .dataframe thead th {\n",
       "        text-align: right;\n",
       "    }\n",
       "</style>\n",
       "<table border=\"1\" class=\"dataframe\">\n",
       "  <thead>\n",
       "    <tr style=\"text-align: right;\">\n",
       "      <th></th>\n",
       "      <th>Survived</th>\n",
       "      <th>Pclass</th>\n",
       "      <th>Sex</th>\n",
       "      <th>Age</th>\n",
       "    </tr>\n",
       "  </thead>\n",
       "  <tbody>\n",
       "    <tr>\n",
       "      <th>6</th>\n",
       "      <td>0</td>\n",
       "      <td>1</td>\n",
       "      <td>male</td>\n",
       "      <td>54.0</td>\n",
       "    </tr>\n",
       "    <tr>\n",
       "      <th>27</th>\n",
       "      <td>0</td>\n",
       "      <td>1</td>\n",
       "      <td>male</td>\n",
       "      <td>19.0</td>\n",
       "    </tr>\n",
       "    <tr>\n",
       "      <th>30</th>\n",
       "      <td>0</td>\n",
       "      <td>1</td>\n",
       "      <td>male</td>\n",
       "      <td>40.0</td>\n",
       "    </tr>\n",
       "  </tbody>\n",
       "</table>\n",
       "</div>"
      ],
      "text/plain": [
       "    Survived  Pclass   Sex   Age\n",
       "6          0       1  male  54.0\n",
       "27         0       1  male  19.0\n",
       "30         0       1  male  40.0"
      ]
     },
     "execution_count": 74,
     "metadata": {},
     "output_type": "execute_result"
    }
   ],
   "source": [
    "# Data\n",
    "a_s_f_c1_n = data.loc[(data['Sex'] == 'male') & (data['Pclass'] == 1) & (data['Survived'] == 0)]\n",
    "a_s_f_c1_n.head(3)"
   ]
  },
  {
   "cell_type": "code",
   "execution_count": 75,
   "id": "18db7812",
   "metadata": {},
   "outputs": [
    {
     "name": "stdout",
     "output_type": "stream",
     "text": [
      "Average age of non-survivors by sex and class: 35.0\n"
     ]
    }
   ],
   "source": [
    "# Average\n",
    "\n",
    "print(f\"Average age of non-survivors by sex and class: {np.average(a_s_f_c1_n['Age']).round(0)}\")"
   ]
  },
  {
   "cell_type": "markdown",
   "id": "04d48eb1",
   "metadata": {},
   "source": [
    "The average age non-survivors for males and class 1 is 40 years."
   ]
  },
  {
   "cell_type": "code",
   "execution_count": 76,
   "id": "a59e75e7",
   "metadata": {},
   "outputs": [
    {
     "name": "stdout",
     "output_type": "stream",
     "text": [
      "Median age of non-survivors by sex and class: 39.0\n"
     ]
    }
   ],
   "source": [
    "# Median\n",
    "\n",
    "print(f\"Median age of non-survivors by sex and class: {np.median(a_s_f_c1_n['Age']).round(0)}\")"
   ]
  },
  {
   "cell_type": "markdown",
   "id": "117a2545",
   "metadata": {},
   "source": [
    "The median age non-survivors for males and class 1 is 39 years."
   ]
  },
  {
   "cell_type": "markdown",
   "id": "33536dc1",
   "metadata": {},
   "source": [
    "### Sex: Female | Class: Class 1 | Survived: No\n"
   ]
  },
  {
   "cell_type": "code",
   "execution_count": 77,
   "id": "8f3425eb",
   "metadata": {},
   "outputs": [
    {
     "data": {
      "text/html": [
       "<div>\n",
       "<style scoped>\n",
       "    .dataframe tbody tr th:only-of-type {\n",
       "        vertical-align: middle;\n",
       "    }\n",
       "\n",
       "    .dataframe tbody tr th {\n",
       "        vertical-align: top;\n",
       "    }\n",
       "\n",
       "    .dataframe thead th {\n",
       "        text-align: right;\n",
       "    }\n",
       "</style>\n",
       "<table border=\"1\" class=\"dataframe\">\n",
       "  <thead>\n",
       "    <tr style=\"text-align: right;\">\n",
       "      <th></th>\n",
       "      <th>Survived</th>\n",
       "      <th>Pclass</th>\n",
       "      <th>Sex</th>\n",
       "      <th>Age</th>\n",
       "    </tr>\n",
       "  </thead>\n",
       "  <tbody>\n",
       "    <tr>\n",
       "      <th>177</th>\n",
       "      <td>0</td>\n",
       "      <td>1</td>\n",
       "      <td>female</td>\n",
       "      <td>50.0</td>\n",
       "    </tr>\n",
       "    <tr>\n",
       "      <th>297</th>\n",
       "      <td>0</td>\n",
       "      <td>1</td>\n",
       "      <td>female</td>\n",
       "      <td>2.0</td>\n",
       "    </tr>\n",
       "    <tr>\n",
       "      <th>498</th>\n",
       "      <td>0</td>\n",
       "      <td>1</td>\n",
       "      <td>female</td>\n",
       "      <td>25.0</td>\n",
       "    </tr>\n",
       "  </tbody>\n",
       "</table>\n",
       "</div>"
      ],
      "text/plain": [
       "     Survived  Pclass     Sex   Age\n",
       "177         0       1  female  50.0\n",
       "297         0       1  female   2.0\n",
       "498         0       1  female  25.0"
      ]
     },
     "execution_count": 77,
     "metadata": {},
     "output_type": "execute_result"
    }
   ],
   "source": [
    "# Data\n",
    "a_s_f_c1_n_f = data.loc[(data['Sex'] == 'female') & (data['Pclass'] == 1) & (data['Survived'] == 0)]\n",
    "a_s_f_c1_n_f.head(3)"
   ]
  },
  {
   "cell_type": "code",
   "execution_count": 78,
   "id": "f464fb1b",
   "metadata": {},
   "outputs": [
    {
     "name": "stdout",
     "output_type": "stream",
     "text": [
      "Average age of non-survivors by sex and class: 26.0\n"
     ]
    }
   ],
   "source": [
    "# Average\n",
    "\n",
    "print(f\"Average age of non-survivors by sex and class: {np.average(a_s_f_c1_n_f['Age']).round(0)}\")"
   ]
  },
  {
   "cell_type": "markdown",
   "id": "4db93869",
   "metadata": {},
   "source": [
    "The average age non-survivors for females and class 1 is 26 years."
   ]
  },
  {
   "cell_type": "code",
   "execution_count": 79,
   "id": "070ecd8b",
   "metadata": {},
   "outputs": [
    {
     "name": "stdout",
     "output_type": "stream",
     "text": [
      "Median age of non-survivors by sex and class: 25.0\n"
     ]
    }
   ],
   "source": [
    "# Median\n",
    "\n",
    "print(f\"Median age of non-survivors by sex and class: {np.median(a_s_f_c1_n_f['Age']).round(0)}\")"
   ]
  },
  {
   "cell_type": "markdown",
   "id": "f5682eaa",
   "metadata": {},
   "source": [
    "The median age non-survivors for females and class 1 is 25 years."
   ]
  },
  {
   "cell_type": "markdown",
   "id": "b3bfa9ec",
   "metadata": {},
   "source": [
    "### Sex: Male | Class: Class 2 | Survived: Yes"
   ]
  },
  {
   "cell_type": "code",
   "execution_count": 80,
   "id": "52fc28b1",
   "metadata": {},
   "outputs": [
    {
     "data": {
      "text/html": [
       "<div>\n",
       "<style scoped>\n",
       "    .dataframe tbody tr th:only-of-type {\n",
       "        vertical-align: middle;\n",
       "    }\n",
       "\n",
       "    .dataframe tbody tr th {\n",
       "        vertical-align: top;\n",
       "    }\n",
       "\n",
       "    .dataframe thead th {\n",
       "        text-align: right;\n",
       "    }\n",
       "</style>\n",
       "<table border=\"1\" class=\"dataframe\">\n",
       "  <thead>\n",
       "    <tr style=\"text-align: right;\">\n",
       "      <th></th>\n",
       "      <th>Survived</th>\n",
       "      <th>Pclass</th>\n",
       "      <th>Sex</th>\n",
       "      <th>Age</th>\n",
       "    </tr>\n",
       "  </thead>\n",
       "  <tbody>\n",
       "    <tr>\n",
       "      <th>17</th>\n",
       "      <td>1</td>\n",
       "      <td>2</td>\n",
       "      <td>male</td>\n",
       "      <td>0.00</td>\n",
       "    </tr>\n",
       "    <tr>\n",
       "      <th>21</th>\n",
       "      <td>1</td>\n",
       "      <td>2</td>\n",
       "      <td>male</td>\n",
       "      <td>34.00</td>\n",
       "    </tr>\n",
       "    <tr>\n",
       "      <th>78</th>\n",
       "      <td>1</td>\n",
       "      <td>2</td>\n",
       "      <td>male</td>\n",
       "      <td>0.83</td>\n",
       "    </tr>\n",
       "  </tbody>\n",
       "</table>\n",
       "</div>"
      ],
      "text/plain": [
       "    Survived  Pclass   Sex    Age\n",
       "17         1       2  male   0.00\n",
       "21         1       2  male  34.00\n",
       "78         1       2  male   0.83"
      ]
     },
     "execution_count": 80,
     "metadata": {},
     "output_type": "execute_result"
    }
   ],
   "source": [
    "# Data\n",
    "a_s_f_c2_y = data.loc[(data['Sex'] == 'male') & (data['Pclass'] == 2) & (data['Survived'] == 1)]\n",
    "a_s_f_c2_y.head(3)"
   ]
  },
  {
   "cell_type": "code",
   "execution_count": 81,
   "id": "b6069adf",
   "metadata": {},
   "outputs": [
    {
     "name": "stdout",
     "output_type": "stream",
     "text": [
      "Average age survivors by sex and class: 14.0\n"
     ]
    }
   ],
   "source": [
    "# Average\n",
    "\n",
    "print(f\"Average age survivors by sex and class: {np.average(a_s_f_c2_y['Age']).round(0)}\")"
   ]
  },
  {
   "cell_type": "markdown",
   "id": "ab5dff62",
   "metadata": {},
   "source": [
    "The average age survivors males and class 2 is 17 years."
   ]
  },
  {
   "cell_type": "code",
   "execution_count": 82,
   "id": "6daaa75c",
   "metadata": {},
   "outputs": [
    {
     "name": "stdout",
     "output_type": "stream",
     "text": [
      "Median age survivors by sex and class: 3.0\n"
     ]
    }
   ],
   "source": [
    "# Median\n",
    "\n",
    "print(f\"Median age survivors by sex and class: {np.median(a_s_f_c2_y['Age']).round(0)}\")"
   ]
  },
  {
   "cell_type": "markdown",
   "id": "d8e3e1b3",
   "metadata": {},
   "source": [
    "The median age survivors males and class 2 is 8 years."
   ]
  },
  {
   "cell_type": "markdown",
   "id": "64e728ac",
   "metadata": {},
   "source": [
    "### Sex: Female | Class: Class 2 | Survived: Yes"
   ]
  },
  {
   "cell_type": "code",
   "execution_count": 83,
   "id": "e39c6399",
   "metadata": {},
   "outputs": [
    {
     "data": {
      "text/html": [
       "<div>\n",
       "<style scoped>\n",
       "    .dataframe tbody tr th:only-of-type {\n",
       "        vertical-align: middle;\n",
       "    }\n",
       "\n",
       "    .dataframe tbody tr th {\n",
       "        vertical-align: top;\n",
       "    }\n",
       "\n",
       "    .dataframe thead th {\n",
       "        text-align: right;\n",
       "    }\n",
       "</style>\n",
       "<table border=\"1\" class=\"dataframe\">\n",
       "  <thead>\n",
       "    <tr style=\"text-align: right;\">\n",
       "      <th></th>\n",
       "      <th>Survived</th>\n",
       "      <th>Pclass</th>\n",
       "      <th>Sex</th>\n",
       "      <th>Age</th>\n",
       "    </tr>\n",
       "  </thead>\n",
       "  <tbody>\n",
       "    <tr>\n",
       "      <th>9</th>\n",
       "      <td>1</td>\n",
       "      <td>2</td>\n",
       "      <td>female</td>\n",
       "      <td>14.0</td>\n",
       "    </tr>\n",
       "    <tr>\n",
       "      <th>15</th>\n",
       "      <td>1</td>\n",
       "      <td>2</td>\n",
       "      <td>female</td>\n",
       "      <td>55.0</td>\n",
       "    </tr>\n",
       "    <tr>\n",
       "      <th>43</th>\n",
       "      <td>1</td>\n",
       "      <td>2</td>\n",
       "      <td>female</td>\n",
       "      <td>3.0</td>\n",
       "    </tr>\n",
       "  </tbody>\n",
       "</table>\n",
       "</div>"
      ],
      "text/plain": [
       "    Survived  Pclass     Sex   Age\n",
       "9          1       2  female  14.0\n",
       "15         1       2  female  55.0\n",
       "43         1       2  female   3.0"
      ]
     },
     "execution_count": 83,
     "metadata": {},
     "output_type": "execute_result"
    }
   ],
   "source": [
    "# Data\n",
    "a_s_f_c2_y_f = data.loc[(data['Sex'] == 'female') & (data['Pclass'] == 2) & (data['Survived'] == 1)]\n",
    "a_s_f_c2_y_f.head(3)"
   ]
  },
  {
   "cell_type": "code",
   "execution_count": 84,
   "id": "58d367e3",
   "metadata": {},
   "outputs": [
    {
     "name": "stdout",
     "output_type": "stream",
     "text": [
      "Average age survivors by sex and class: 27.0\n"
     ]
    }
   ],
   "source": [
    "# Average\n",
    "\n",
    "print(f\"Average age survivors by sex and class: {np.average(a_s_f_c2_y_f['Age']).round(0)}\")"
   ]
  },
  {
   "cell_type": "markdown",
   "id": "83087ada",
   "metadata": {},
   "source": [
    "The average age survivors females and class 2 is 28 years."
   ]
  },
  {
   "cell_type": "code",
   "execution_count": 85,
   "id": "e5b8282b",
   "metadata": {},
   "outputs": [
    {
     "name": "stdout",
     "output_type": "stream",
     "text": [
      "Median age survivors by sex and class: 28.0\n"
     ]
    }
   ],
   "source": [
    "# Median\n",
    "\n",
    "print(f\"Median age survivors by sex and class: {np.median(a_s_f_c2_y_f['Age']).round(0)}\")"
   ]
  },
  {
   "cell_type": "markdown",
   "id": "fe4045dc",
   "metadata": {},
   "source": [
    "The median age survivors females and class 2 is 28 years."
   ]
  },
  {
   "cell_type": "markdown",
   "id": "d42c27b2",
   "metadata": {},
   "source": [
    "### Sex: Male | Class: Class 2 | Survived: No"
   ]
  },
  {
   "cell_type": "code",
   "execution_count": 86,
   "id": "f1f2772e",
   "metadata": {},
   "outputs": [
    {
     "data": {
      "text/html": [
       "<div>\n",
       "<style scoped>\n",
       "    .dataframe tbody tr th:only-of-type {\n",
       "        vertical-align: middle;\n",
       "    }\n",
       "\n",
       "    .dataframe tbody tr th {\n",
       "        vertical-align: top;\n",
       "    }\n",
       "\n",
       "    .dataframe thead th {\n",
       "        text-align: right;\n",
       "    }\n",
       "</style>\n",
       "<table border=\"1\" class=\"dataframe\">\n",
       "  <thead>\n",
       "    <tr style=\"text-align: right;\">\n",
       "      <th></th>\n",
       "      <th>Survived</th>\n",
       "      <th>Pclass</th>\n",
       "      <th>Sex</th>\n",
       "      <th>Age</th>\n",
       "    </tr>\n",
       "  </thead>\n",
       "  <tbody>\n",
       "    <tr>\n",
       "      <th>20</th>\n",
       "      <td>0</td>\n",
       "      <td>2</td>\n",
       "      <td>male</td>\n",
       "      <td>35.0</td>\n",
       "    </tr>\n",
       "    <tr>\n",
       "      <th>33</th>\n",
       "      <td>0</td>\n",
       "      <td>2</td>\n",
       "      <td>male</td>\n",
       "      <td>66.0</td>\n",
       "    </tr>\n",
       "    <tr>\n",
       "      <th>70</th>\n",
       "      <td>0</td>\n",
       "      <td>2</td>\n",
       "      <td>male</td>\n",
       "      <td>32.0</td>\n",
       "    </tr>\n",
       "  </tbody>\n",
       "</table>\n",
       "</div>"
      ],
      "text/plain": [
       "    Survived  Pclass   Sex   Age\n",
       "20         0       2  male  35.0\n",
       "33         0       2  male  66.0\n",
       "70         0       2  male  32.0"
      ]
     },
     "execution_count": 86,
     "metadata": {},
     "output_type": "execute_result"
    }
   ],
   "source": [
    "# Data\n",
    "a_s_f_c2_n = data.loc[(data['Sex'] == 'male') & (data['Pclass'] == 2) & (data['Survived'] == 0)]\n",
    "a_s_f_c2_n.head(3)"
   ]
  },
  {
   "cell_type": "code",
   "execution_count": 87,
   "id": "07572a6c",
   "metadata": {},
   "outputs": [
    {
     "name": "stdout",
     "output_type": "stream",
     "text": [
      "Average age non-survivors by sex and class: 31.0\n"
     ]
    }
   ],
   "source": [
    "# Average\n",
    "\n",
    "print(f\"Average age non-survivors by sex and class: {np.average(a_s_f_c2_n['Age']).round(0)}\")"
   ]
  },
  {
   "cell_type": "markdown",
   "id": "86cd8feb",
   "metadata": {},
   "source": [
    "The average age non-survivors males and class 2 is 33 years."
   ]
  },
  {
   "cell_type": "code",
   "execution_count": 88,
   "id": "befef8cf",
   "metadata": {},
   "outputs": [
    {
     "name": "stdout",
     "output_type": "stream",
     "text": [
      "Median age non-survivors by sex and class: 30.0\n"
     ]
    }
   ],
   "source": [
    "# Median\n",
    "\n",
    "print(f\"Median age non-survivors by sex and class: {np.median(a_s_f_c2_n['Age']).round(0)}\")"
   ]
  },
  {
   "cell_type": "markdown",
   "id": "9c86c824",
   "metadata": {},
   "source": [
    "The median age non-survivors males and class 2 is 30 years."
   ]
  },
  {
   "cell_type": "markdown",
   "id": "edd4866e",
   "metadata": {},
   "source": [
    "### Sex: Female | Class: Class 2 | Survived: No"
   ]
  },
  {
   "cell_type": "code",
   "execution_count": 89,
   "id": "80a04aed",
   "metadata": {},
   "outputs": [
    {
     "data": {
      "text/html": [
       "<div>\n",
       "<style scoped>\n",
       "    .dataframe tbody tr th:only-of-type {\n",
       "        vertical-align: middle;\n",
       "    }\n",
       "\n",
       "    .dataframe tbody tr th {\n",
       "        vertical-align: top;\n",
       "    }\n",
       "\n",
       "    .dataframe thead th {\n",
       "        text-align: right;\n",
       "    }\n",
       "</style>\n",
       "<table border=\"1\" class=\"dataframe\">\n",
       "  <thead>\n",
       "    <tr style=\"text-align: right;\">\n",
       "      <th></th>\n",
       "      <th>Survived</th>\n",
       "      <th>Pclass</th>\n",
       "      <th>Sex</th>\n",
       "      <th>Age</th>\n",
       "    </tr>\n",
       "  </thead>\n",
       "  <tbody>\n",
       "    <tr>\n",
       "      <th>41</th>\n",
       "      <td>0</td>\n",
       "      <td>2</td>\n",
       "      <td>female</td>\n",
       "      <td>27.0</td>\n",
       "    </tr>\n",
       "    <tr>\n",
       "      <th>199</th>\n",
       "      <td>0</td>\n",
       "      <td>2</td>\n",
       "      <td>female</td>\n",
       "      <td>24.0</td>\n",
       "    </tr>\n",
       "    <tr>\n",
       "      <th>312</th>\n",
       "      <td>0</td>\n",
       "      <td>2</td>\n",
       "      <td>female</td>\n",
       "      <td>26.0</td>\n",
       "    </tr>\n",
       "  </tbody>\n",
       "</table>\n",
       "</div>"
      ],
      "text/plain": [
       "     Survived  Pclass     Sex   Age\n",
       "41          0       2  female  27.0\n",
       "199         0       2  female  24.0\n",
       "312         0       2  female  26.0"
      ]
     },
     "execution_count": 89,
     "metadata": {},
     "output_type": "execute_result"
    }
   ],
   "source": [
    "# Data\n",
    "a_s_f_c2_n_f = data.loc[(data['Sex'] == 'female') & (data['Pclass'] == 2) & (data['Survived'] == 0)]\n",
    "a_s_f_c2_n_f.head(3)"
   ]
  },
  {
   "cell_type": "code",
   "execution_count": 90,
   "id": "49cf23df",
   "metadata": {},
   "outputs": [
    {
     "name": "stdout",
     "output_type": "stream",
     "text": [
      "Average age non-survivors by sex and class: 36.0\n"
     ]
    }
   ],
   "source": [
    "# Average\n",
    "\n",
    "print(f\"Average age non-survivors by sex and class: {np.average(a_s_f_c2_n_f['Age']).round(0)}\")"
   ]
  },
  {
   "cell_type": "markdown",
   "id": "c2c9f5e9",
   "metadata": {},
   "source": [
    "The average age non-survivors females and class 2 is 36 years."
   ]
  },
  {
   "cell_type": "code",
   "execution_count": 91,
   "id": "021397af",
   "metadata": {},
   "outputs": [
    {
     "name": "stdout",
     "output_type": "stream",
     "text": [
      "Median age non-survivors by sex and class: 32.0\n"
     ]
    }
   ],
   "source": [
    "# Median\n",
    "\n",
    "print(f\"Median age non-survivors by sex and class: {np.median(a_s_f_c2_n_f['Age']).round(0)}\")"
   ]
  },
  {
   "cell_type": "markdown",
   "id": "ec5fdb30",
   "metadata": {},
   "source": [
    "The median age non-survivors females and class 2 is 32 years."
   ]
  },
  {
   "cell_type": "markdown",
   "id": "e319e01a",
   "metadata": {},
   "source": [
    "### Sex: Male | Class: Class 3 | Survived: Yes"
   ]
  },
  {
   "cell_type": "code",
   "execution_count": 5,
   "id": "f5861c2c",
   "metadata": {},
   "outputs": [
    {
     "data": {
      "text/html": [
       "<div>\n",
       "<style scoped>\n",
       "    .dataframe tbody tr th:only-of-type {\n",
       "        vertical-align: middle;\n",
       "    }\n",
       "\n",
       "    .dataframe tbody tr th {\n",
       "        vertical-align: top;\n",
       "    }\n",
       "\n",
       "    .dataframe thead th {\n",
       "        text-align: right;\n",
       "    }\n",
       "</style>\n",
       "<table border=\"1\" class=\"dataframe\">\n",
       "  <thead>\n",
       "    <tr style=\"text-align: right;\">\n",
       "      <th></th>\n",
       "      <th>Survived</th>\n",
       "      <th>Pclass</th>\n",
       "      <th>Sex</th>\n",
       "      <th>Age</th>\n",
       "    </tr>\n",
       "  </thead>\n",
       "  <tbody>\n",
       "    <tr>\n",
       "      <th>36</th>\n",
       "      <td>1</td>\n",
       "      <td>3</td>\n",
       "      <td>male</td>\n",
       "      <td>24.0</td>\n",
       "    </tr>\n",
       "    <tr>\n",
       "      <th>65</th>\n",
       "      <td>1</td>\n",
       "      <td>3</td>\n",
       "      <td>male</td>\n",
       "      <td>24.0</td>\n",
       "    </tr>\n",
       "    <tr>\n",
       "      <th>74</th>\n",
       "      <td>1</td>\n",
       "      <td>3</td>\n",
       "      <td>male</td>\n",
       "      <td>32.0</td>\n",
       "    </tr>\n",
       "  </tbody>\n",
       "</table>\n",
       "</div>"
      ],
      "text/plain": [
       "    Survived  Pclass   Sex   Age\n",
       "36         1       3  male  24.0\n",
       "65         1       3  male  24.0\n",
       "74         1       3  male  32.0"
      ]
     },
     "execution_count": 5,
     "metadata": {},
     "output_type": "execute_result"
    }
   ],
   "source": [
    "# Data\n",
    "a_s_m_c3_y = data.loc[(data['Sex'] == 'male') & (data['Pclass'] == 3) & (data['Survived'] == 1)]\n",
    "a_s_m_c3_y.head(3)"
   ]
  },
  {
   "cell_type": "code",
   "execution_count": 6,
   "id": "76dc5dcd",
   "metadata": {},
   "outputs": [
    {
     "name": "stdout",
     "output_type": "stream",
     "text": [
      "Average age survivors by sex and class: 23.0\n"
     ]
    }
   ],
   "source": [
    "# Average\n",
    "\n",
    "print(f\"Average age survivors by sex and class: {np.average(a_s_m_c3_y['Age']).round(0)}\")"
   ]
  },
  {
   "cell_type": "markdown",
   "id": "28f6493a",
   "metadata": {},
   "source": [
    "The average age survivors males and class 3 is 23 years."
   ]
  },
  {
   "cell_type": "code",
   "execution_count": 8,
   "id": "b7c6203f",
   "metadata": {},
   "outputs": [
    {
     "name": "stdout",
     "output_type": "stream",
     "text": [
      "Median age survivors by sex and class: 24.0\n"
     ]
    }
   ],
   "source": [
    "# Median\n",
    "\n",
    "print(f\"Median age survivors by sex and class: {np.median(a_s_m_c3_y['Age']).round(0)}\")"
   ]
  },
  {
   "cell_type": "markdown",
   "id": "b3bc8d09",
   "metadata": {},
   "source": [
    "The median age survivors males and class 3 is 24 years."
   ]
  },
  {
   "cell_type": "markdown",
   "id": "3dd06f23",
   "metadata": {},
   "source": [
    "### Sex: Female | Class: Class 3 | Survived: Yes"
   ]
  },
  {
   "cell_type": "code",
   "execution_count": null,
   "id": "8179e29f",
   "metadata": {},
   "outputs": [
    {
     "data": {
      "text/html": [
       "<div>\n",
       "<style scoped>\n",
       "    .dataframe tbody tr th:only-of-type {\n",
       "        vertical-align: middle;\n",
       "    }\n",
       "\n",
       "    .dataframe tbody tr th {\n",
       "        vertical-align: top;\n",
       "    }\n",
       "\n",
       "    .dataframe thead th {\n",
       "        text-align: right;\n",
       "    }\n",
       "</style>\n",
       "<table border=\"1\" class=\"dataframe\">\n",
       "  <thead>\n",
       "    <tr style=\"text-align: right;\">\n",
       "      <th></th>\n",
       "      <th>Survived</th>\n",
       "      <th>Pclass</th>\n",
       "      <th>Sex</th>\n",
       "      <th>Age</th>\n",
       "    </tr>\n",
       "  </thead>\n",
       "  <tbody>\n",
       "    <tr>\n",
       "      <th>2</th>\n",
       "      <td>1</td>\n",
       "      <td>3</td>\n",
       "      <td>female</td>\n",
       "      <td>26.0</td>\n",
       "    </tr>\n",
       "    <tr>\n",
       "      <th>8</th>\n",
       "      <td>1</td>\n",
       "      <td>3</td>\n",
       "      <td>female</td>\n",
       "      <td>27.0</td>\n",
       "    </tr>\n",
       "    <tr>\n",
       "      <th>10</th>\n",
       "      <td>1</td>\n",
       "      <td>3</td>\n",
       "      <td>female</td>\n",
       "      <td>4.0</td>\n",
       "    </tr>\n",
       "  </tbody>\n",
       "</table>\n",
       "</div>"
      ],
      "text/plain": [
       "    Survived  Pclass     Sex   Age\n",
       "2          1       3  female  26.0\n",
       "8          1       3  female  27.0\n",
       "10         1       3  female   4.0"
      ]
     },
     "execution_count": 99,
     "metadata": {},
     "output_type": "execute_result"
    }
   ],
   "source": [
    "# Data\n",
    "a_s_f_c3_y = data.loc[(data['Sex'] == 'female') & (data['Pclass'] == 3) & (data['Survived'] == 1)]\n",
    "a_s_f_c3_y.head(3)"
   ]
  },
  {
   "cell_type": "code",
   "execution_count": null,
   "id": "a0295723",
   "metadata": {},
   "outputs": [
    {
     "name": "stdout",
     "output_type": "stream",
     "text": [
      "Average age survivors by sex and class: 21.0\n"
     ]
    }
   ],
   "source": [
    "# Average\n",
    "\n",
    "print(f\"Average age survivors by sex and class: {np.average(a_s_f_c3_y['Age']).round(0)}\")"
   ]
  },
  {
   "cell_type": "markdown",
   "id": "2c9bc1c7",
   "metadata": {},
   "source": [
    "The average age survivors females and class 3 is 21 years."
   ]
  },
  {
   "cell_type": "code",
   "execution_count": null,
   "id": "d2186cd3",
   "metadata": {},
   "outputs": [
    {
     "name": "stdout",
     "output_type": "stream",
     "text": [
      "Median age survivors by sex and class: 24.0\n"
     ]
    }
   ],
   "source": [
    "# Median\n",
    "\n",
    "print(f\"Median age survivors by sex and class: {np.median(a_s_f_c3_y['Age']).round(0)}\")"
   ]
  },
  {
   "cell_type": "markdown",
   "id": "7fd30058",
   "metadata": {},
   "source": [
    "The average age survivors females and class 3 is 24 years."
   ]
  },
  {
   "cell_type": "markdown",
   "id": "e265d0f9",
   "metadata": {},
   "source": [
    "### Sex: Male | Class: Class 3 | Survived: No"
   ]
  },
  {
   "cell_type": "code",
   "execution_count": null,
   "id": "98d5c949",
   "metadata": {},
   "outputs": [
    {
     "data": {
      "text/html": [
       "<div>\n",
       "<style scoped>\n",
       "    .dataframe tbody tr th:only-of-type {\n",
       "        vertical-align: middle;\n",
       "    }\n",
       "\n",
       "    .dataframe tbody tr th {\n",
       "        vertical-align: top;\n",
       "    }\n",
       "\n",
       "    .dataframe thead th {\n",
       "        text-align: right;\n",
       "    }\n",
       "</style>\n",
       "<table border=\"1\" class=\"dataframe\">\n",
       "  <thead>\n",
       "    <tr style=\"text-align: right;\">\n",
       "      <th></th>\n",
       "      <th>Survived</th>\n",
       "      <th>Pclass</th>\n",
       "      <th>Sex</th>\n",
       "      <th>Age</th>\n",
       "    </tr>\n",
       "  </thead>\n",
       "  <tbody>\n",
       "    <tr>\n",
       "      <th>0</th>\n",
       "      <td>0</td>\n",
       "      <td>3</td>\n",
       "      <td>male</td>\n",
       "      <td>22.0</td>\n",
       "    </tr>\n",
       "    <tr>\n",
       "      <th>4</th>\n",
       "      <td>0</td>\n",
       "      <td>3</td>\n",
       "      <td>male</td>\n",
       "      <td>35.0</td>\n",
       "    </tr>\n",
       "    <tr>\n",
       "      <th>5</th>\n",
       "      <td>0</td>\n",
       "      <td>3</td>\n",
       "      <td>male</td>\n",
       "      <td>24.0</td>\n",
       "    </tr>\n",
       "  </tbody>\n",
       "</table>\n",
       "</div>"
      ],
      "text/plain": [
       "   Survived  Pclass   Sex   Age\n",
       "0         0       3  male  22.0\n",
       "4         0       3  male  35.0\n",
       "5         0       3  male  24.0"
      ]
     },
     "execution_count": 102,
     "metadata": {},
     "output_type": "execute_result"
    }
   ],
   "source": [
    "# Data\n",
    "a_s_m_c3_n = data.loc[(data['Sex'] == 'male') & (data['Pclass'] == 3) & (data['Survived'] == 0)]\n",
    "a_s_m_c3_n.head(3)"
   ]
  },
  {
   "cell_type": "code",
   "execution_count": null,
   "id": "f5d2438b",
   "metadata": {},
   "outputs": [
    {
     "name": "stdout",
     "output_type": "stream",
     "text": [
      "Average age survivors by sex and class: 26.0\n"
     ]
    }
   ],
   "source": [
    "# Average\n",
    "\n",
    "print(f\"Average age survivors by sex and class: {np.average(a_s_m_c3_n['Age']).round(0)}\")"
   ]
  },
  {
   "cell_type": "markdown",
   "id": "6937cd8e",
   "metadata": {},
   "source": [
    "The average age non-survivors males and class 3 is 26 years."
   ]
  },
  {
   "cell_type": "code",
   "execution_count": null,
   "id": "26c12e36",
   "metadata": {},
   "outputs": [
    {
     "name": "stdout",
     "output_type": "stream",
     "text": [
      "Median age survivors by sex and class: 24.0\n"
     ]
    }
   ],
   "source": [
    "# Median\n",
    "\n",
    "print(f\"Median age survivors by sex and class: {np.median(a_s_m_c3_n['Age']).round(0)}\")"
   ]
  },
  {
   "cell_type": "markdown",
   "id": "df64140b",
   "metadata": {},
   "source": [
    "The median age non-survivors males and class 3 is 24 years."
   ]
  },
  {
   "cell_type": "markdown",
   "id": "43ec0015",
   "metadata": {},
   "source": [
    "### Sex: Female | Class: Class 3 | Survived: No"
   ]
  },
  {
   "cell_type": "code",
   "execution_count": null,
   "id": "e0ad2009",
   "metadata": {},
   "outputs": [
    {
     "data": {
      "text/html": [
       "<div>\n",
       "<style scoped>\n",
       "    .dataframe tbody tr th:only-of-type {\n",
       "        vertical-align: middle;\n",
       "    }\n",
       "\n",
       "    .dataframe tbody tr th {\n",
       "        vertical-align: top;\n",
       "    }\n",
       "\n",
       "    .dataframe thead th {\n",
       "        text-align: right;\n",
       "    }\n",
       "</style>\n",
       "<table border=\"1\" class=\"dataframe\">\n",
       "  <thead>\n",
       "    <tr style=\"text-align: right;\">\n",
       "      <th></th>\n",
       "      <th>Survived</th>\n",
       "      <th>Pclass</th>\n",
       "      <th>Sex</th>\n",
       "      <th>Age</th>\n",
       "    </tr>\n",
       "  </thead>\n",
       "  <tbody>\n",
       "    <tr>\n",
       "      <th>14</th>\n",
       "      <td>0</td>\n",
       "      <td>3</td>\n",
       "      <td>female</td>\n",
       "      <td>14.0</td>\n",
       "    </tr>\n",
       "    <tr>\n",
       "      <th>18</th>\n",
       "      <td>0</td>\n",
       "      <td>3</td>\n",
       "      <td>female</td>\n",
       "      <td>31.0</td>\n",
       "    </tr>\n",
       "    <tr>\n",
       "      <th>24</th>\n",
       "      <td>0</td>\n",
       "      <td>3</td>\n",
       "      <td>female</td>\n",
       "      <td>8.0</td>\n",
       "    </tr>\n",
       "  </tbody>\n",
       "</table>\n",
       "</div>"
      ],
      "text/plain": [
       "    Survived  Pclass     Sex   Age\n",
       "14         0       3  female  14.0\n",
       "18         0       3  female  31.0\n",
       "24         0       3  female   8.0"
      ]
     },
     "execution_count": 111,
     "metadata": {},
     "output_type": "execute_result"
    }
   ],
   "source": [
    "# Data\n",
    "a_s_f_c3_n = data.loc[(data['Sex'] == 'female') & (data['Pclass'] == 3) & (data['Survived'] == 0)]\n",
    "a_s_f_c3_n.head(3)"
   ]
  },
  {
   "cell_type": "code",
   "execution_count": null,
   "id": "41a55119",
   "metadata": {},
   "outputs": [
    {
     "name": "stdout",
     "output_type": "stream",
     "text": [
      "Average age survivors by sex and class: 24.0\n"
     ]
    }
   ],
   "source": [
    "# Average\n",
    "\n",
    "print(f\"Average age survivors by sex and class: {np.average(a_s_f_c3_n['Age']).round(0)}\")"
   ]
  },
  {
   "cell_type": "markdown",
   "id": "726b2f5b",
   "metadata": {},
   "source": [
    "The average age non-survivors female and class 3 is 24 years."
   ]
  },
  {
   "cell_type": "code",
   "execution_count": null,
   "id": "53cf50e8",
   "metadata": {},
   "outputs": [
    {
     "name": "stdout",
     "output_type": "stream",
     "text": [
      "Median age survivors by sex and class: 24.0\n"
     ]
    }
   ],
   "source": [
    "# Median\n",
    "\n",
    "print(f\"Median age survivors by sex and class: {np.median(a_s_f_c3_n['Age']).round(0)}\")"
   ]
  },
  {
   "cell_type": "markdown",
   "id": "7cf2e362",
   "metadata": {},
   "source": [
    "The median age non-survivors female and class 3 is 24 years."
   ]
  },
  {
   "cell_type": "markdown",
   "id": "5ef50b09",
   "metadata": {},
   "source": [
    "<br>"
   ]
  },
  {
   "cell_type": "markdown",
   "id": "4afd8896",
   "metadata": {},
   "source": [
    "# Description Variable Sex"
   ]
  },
  {
   "cell_type": "markdown",
   "id": "86222aeb",
   "metadata": {},
   "source": [
    "### Sex Female and Male"
   ]
  },
  {
   "cell_type": "code",
   "execution_count": null,
   "id": "57280b1e",
   "metadata": {},
   "outputs": [
    {
     "data": {
      "text/plain": [
       "0      male\n",
       "1    female\n",
       "2    female\n",
       "Name: Sex, dtype: object"
      ]
     },
     "execution_count": 153,
     "metadata": {},
     "output_type": "execute_result"
    }
   ],
   "source": [
    "# Data\n",
    "\n",
    "data['Sex'].head(3)"
   ]
  },
  {
   "cell_type": "code",
   "execution_count": null,
   "id": "b650d03c",
   "metadata": {},
   "outputs": [
    {
     "data": {
      "text/plain": [
       "Sex\n",
       "male      577\n",
       "female    314\n",
       "Name: count, dtype: int64"
      ]
     },
     "execution_count": 154,
     "metadata": {},
     "output_type": "execute_result"
    }
   ],
   "source": [
    "# Frequency sex male and female\n",
    "\n",
    "data['Sex'].value_counts()"
   ]
  },
  {
   "cell_type": "markdown",
   "id": "de8f2872",
   "metadata": {},
   "source": [
    "We have 577 passengers for sex male and 314 sex female."
   ]
  },
  {
   "cell_type": "markdown",
   "id": "6041c50f",
   "metadata": {},
   "source": [
    "### Histogram"
   ]
  },
  {
   "cell_type": "code",
   "execution_count": null,
   "id": "b541fefc",
   "metadata": {},
   "outputs": [
    {
     "data": {
      "text/plain": [
       "[Text(0, 0, '64.8%'), Text(0, 0, '35.2%')]"
      ]
     },
     "execution_count": 3,
     "metadata": {},
     "output_type": "execute_result"
    },
    {
     "data": {
      "image/png": "[encoded data removed]",
      "text/plain": [
       "<Figure size 700x300 with 1 Axes>"
      ]
     },
     "metadata": {},
     "output_type": "display_data"
    }
   ],
   "source": [
    "# Histogram\n",
    "\n",
    "sex = (\"Male\", \"Female\")\n",
    "\n",
    "data_size = [577, 314]\n",
    "\n",
    "fig, ax = plt.subplots(figsize =(7, 3))\n",
    "\n",
    "bar_container = ax.bar(sex, data_size, color=['#0055C8', '#F8852B'], \n",
    "                       width = 0.30, edgecolor=['black'], align='center')\n",
    "\n",
    "ax.set(ylabel='Corresponding Frequency', \n",
    "       title='Total Passengers By Sex', \n",
    "       ylim=(0, 700), \n",
    "       xlim=(-1, 2))\n",
    "\n",
    "ax.bar_label(\n",
    "    bar_container, fmt=lambda x: '{:.1f}%'.format((x / 891) * 100))\n",
    "\n"
   ]
  },
  {
   "cell_type": "markdown",
   "id": "6f79769f",
   "metadata": {},
   "source": [
    "*65% of passengers was sex Male and 35% was Female.*"
   ]
  },
  {
   "cell_type": "markdown",
   "id": "5a0a1f80",
   "metadata": {},
   "source": [
    "<br>"
   ]
  },
  {
   "cell_type": "markdown",
   "id": "1bd169dc",
   "metadata": {},
   "source": [
    "## Sex and Class"
   ]
  },
  {
   "cell_type": "markdown",
   "id": "b3b0c4d4",
   "metadata": {},
   "source": [
    "### Sex and Class 1"
   ]
  },
  {
   "cell_type": "code",
   "execution_count": null,
   "id": "818d1935",
   "metadata": {},
   "outputs": [
    {
     "data": {
      "text/html": [
       "<div>\n",
       "<style scoped>\n",
       "    .dataframe tbody tr th:only-of-type {\n",
       "        vertical-align: middle;\n",
       "    }\n",
       "\n",
       "    .dataframe tbody tr th {\n",
       "        vertical-align: top;\n",
       "    }\n",
       "\n",
       "    .dataframe thead th {\n",
       "        text-align: right;\n",
       "    }\n",
       "</style>\n",
       "<table border=\"1\" class=\"dataframe\">\n",
       "  <thead>\n",
       "    <tr style=\"text-align: right;\">\n",
       "      <th></th>\n",
       "      <th>Survived</th>\n",
       "      <th>Pclass</th>\n",
       "      <th>Sex</th>\n",
       "      <th>Age</th>\n",
       "    </tr>\n",
       "  </thead>\n",
       "  <tbody>\n",
       "    <tr>\n",
       "      <th>1</th>\n",
       "      <td>1</td>\n",
       "      <td>1</td>\n",
       "      <td>female</td>\n",
       "      <td>38.0</td>\n",
       "    </tr>\n",
       "    <tr>\n",
       "      <th>3</th>\n",
       "      <td>1</td>\n",
       "      <td>1</td>\n",
       "      <td>female</td>\n",
       "      <td>35.0</td>\n",
       "    </tr>\n",
       "    <tr>\n",
       "      <th>6</th>\n",
       "      <td>0</td>\n",
       "      <td>1</td>\n",
       "      <td>male</td>\n",
       "      <td>54.0</td>\n",
       "    </tr>\n",
       "  </tbody>\n",
       "</table>\n",
       "</div>"
      ],
      "text/plain": [
       "   Survived  Pclass     Sex   Age\n",
       "1         1       1  female  38.0\n",
       "3         1       1  female  35.0\n",
       "6         0       1    male  54.0"
      ]
     },
     "execution_count": 5,
     "metadata": {},
     "output_type": "execute_result"
    }
   ],
   "source": [
    "sex_class_1 = data.loc[(data['Pclass'] == 1)]\n",
    "sex_class_1.head(3)"
   ]
  },
  {
   "cell_type": "code",
   "execution_count": null,
   "id": "8644e2d0",
   "metadata": {},
   "outputs": [
    {
     "data": {
      "text/plain": [
       "Sex\n",
       "male      122\n",
       "female     94\n",
       "Name: count, dtype: int64"
      ]
     },
     "execution_count": 6,
     "metadata": {},
     "output_type": "execute_result"
    }
   ],
   "source": [
    "sex_class_1['Sex'].value_counts()"
   ]
  },
  {
   "cell_type": "markdown",
   "id": "9d15a9ec",
   "metadata": {},
   "source": [
    "### Sex and Class 2"
   ]
  },
  {
   "cell_type": "code",
   "execution_count": null,
   "id": "610be39f",
   "metadata": {},
   "outputs": [
    {
     "data": {
      "text/html": [
       "<div>\n",
       "<style scoped>\n",
       "    .dataframe tbody tr th:only-of-type {\n",
       "        vertical-align: middle;\n",
       "    }\n",
       "\n",
       "    .dataframe tbody tr th {\n",
       "        vertical-align: top;\n",
       "    }\n",
       "\n",
       "    .dataframe thead th {\n",
       "        text-align: right;\n",
       "    }\n",
       "</style>\n",
       "<table border=\"1\" class=\"dataframe\">\n",
       "  <thead>\n",
       "    <tr style=\"text-align: right;\">\n",
       "      <th></th>\n",
       "      <th>Survived</th>\n",
       "      <th>Pclass</th>\n",
       "      <th>Sex</th>\n",
       "      <th>Age</th>\n",
       "    </tr>\n",
       "  </thead>\n",
       "  <tbody>\n",
       "    <tr>\n",
       "      <th>9</th>\n",
       "      <td>1</td>\n",
       "      <td>2</td>\n",
       "      <td>female</td>\n",
       "      <td>14.0</td>\n",
       "    </tr>\n",
       "    <tr>\n",
       "      <th>15</th>\n",
       "      <td>1</td>\n",
       "      <td>2</td>\n",
       "      <td>female</td>\n",
       "      <td>55.0</td>\n",
       "    </tr>\n",
       "    <tr>\n",
       "      <th>17</th>\n",
       "      <td>1</td>\n",
       "      <td>2</td>\n",
       "      <td>male</td>\n",
       "      <td>24.0</td>\n",
       "    </tr>\n",
       "  </tbody>\n",
       "</table>\n",
       "</div>"
      ],
      "text/plain": [
       "    Survived  Pclass     Sex   Age\n",
       "9          1       2  female  14.0\n",
       "15         1       2  female  55.0\n",
       "17         1       2    male  24.0"
      ]
     },
     "execution_count": 7,
     "metadata": {},
     "output_type": "execute_result"
    }
   ],
   "source": [
    "sex_class_2 = data.loc[(data['Pclass'] == 2)]\n",
    "sex_class_2.head(3)"
   ]
  },
  {
   "cell_type": "code",
   "execution_count": null,
   "id": "e6d4f975",
   "metadata": {},
   "outputs": [
    {
     "data": {
      "text/plain": [
       "Sex\n",
       "male      108\n",
       "female     76\n",
       "Name: count, dtype: int64"
      ]
     },
     "execution_count": 8,
     "metadata": {},
     "output_type": "execute_result"
    }
   ],
   "source": [
    "sex_class_2['Sex'].value_counts()"
   ]
  },
  {
   "cell_type": "markdown",
   "id": "219e4dba",
   "metadata": {},
   "source": [
    "### Sex And Class 3"
   ]
  },
  {
   "cell_type": "code",
   "execution_count": null,
   "id": "f20cfd5d",
   "metadata": {},
   "outputs": [
    {
     "data": {
      "text/html": [
       "<div>\n",
       "<style scoped>\n",
       "    .dataframe tbody tr th:only-of-type {\n",
       "        vertical-align: middle;\n",
       "    }\n",
       "\n",
       "    .dataframe tbody tr th {\n",
       "        vertical-align: top;\n",
       "    }\n",
       "\n",
       "    .dataframe thead th {\n",
       "        text-align: right;\n",
       "    }\n",
       "</style>\n",
       "<table border=\"1\" class=\"dataframe\">\n",
       "  <thead>\n",
       "    <tr style=\"text-align: right;\">\n",
       "      <th></th>\n",
       "      <th>Survived</th>\n",
       "      <th>Pclass</th>\n",
       "      <th>Sex</th>\n",
       "      <th>Age</th>\n",
       "    </tr>\n",
       "  </thead>\n",
       "  <tbody>\n",
       "    <tr>\n",
       "      <th>0</th>\n",
       "      <td>0</td>\n",
       "      <td>3</td>\n",
       "      <td>male</td>\n",
       "      <td>22.0</td>\n",
       "    </tr>\n",
       "    <tr>\n",
       "      <th>2</th>\n",
       "      <td>1</td>\n",
       "      <td>3</td>\n",
       "      <td>female</td>\n",
       "      <td>26.0</td>\n",
       "    </tr>\n",
       "    <tr>\n",
       "      <th>4</th>\n",
       "      <td>0</td>\n",
       "      <td>3</td>\n",
       "      <td>male</td>\n",
       "      <td>35.0</td>\n",
       "    </tr>\n",
       "  </tbody>\n",
       "</table>\n",
       "</div>"
      ],
      "text/plain": [
       "   Survived  Pclass     Sex   Age\n",
       "0         0       3    male  22.0\n",
       "2         1       3  female  26.0\n",
       "4         0       3    male  35.0"
      ]
     },
     "execution_count": 9,
     "metadata": {},
     "output_type": "execute_result"
    }
   ],
   "source": [
    "sex_class_3 = data.loc[(data['Pclass'] == 3)]\n",
    "sex_class_3.head(3)"
   ]
  },
  {
   "cell_type": "code",
   "execution_count": null,
   "id": "b705c94f",
   "metadata": {},
   "outputs": [
    {
     "data": {
      "text/plain": [
       "Sex\n",
       "male      347\n",
       "female    144\n",
       "Name: count, dtype: int64"
      ]
     },
     "execution_count": 10,
     "metadata": {},
     "output_type": "execute_result"
    }
   ],
   "source": [
    "sex_class_3['Sex'].value_counts()"
   ]
  },
  {
   "cell_type": "code",
   "execution_count": null,
   "id": "1748c055",
   "metadata": {},
   "outputs": [
    {
     "data": {
      "image/png": "[encoded data removed]",
      "text/plain": [
       "<Figure size 600x300 with 1 Axes>"
      ]
     },
     "metadata": {},
     "output_type": "display_data"
    }
   ],
   "source": [
    "species = (\"Class 1\", \"Class 2\", \"Class 3\")\n",
    "\n",
    "penguin_means = {\n",
    "    \n",
    "    'Male': (122, 108, 347),\n",
    "    'Female': (94, 76, 144),\n",
    "}\n",
    "\n",
    "x = np.arange(len(species))  \n",
    "width = 0.30  \n",
    "multiplier = 0\n",
    "\n",
    "\n",
    "fig, ax = plt.subplots(layout='constrained', figsize =(6, 3))\n",
    "\n",
    "for attribute, measurement in penguin_means.items():\n",
    "    \n",
    "    offset = width * multiplier\n",
    "    \n",
    "    rects = ax.bar(x + offset, measurement, width, \n",
    "                   label=attribute,\n",
    "                   edgecolor=['black'])\n",
    "    ax.bar_label(rects, padding=2, fmt=lambda x: '{:.2f}%'.format((x / 891) * 100))\n",
    "    \n",
    "    multiplier += 1\n",
    "\n",
    "\n",
    "ax.set_ylabel('Corresponding Frequency')\n",
    "ax.set_title('Number Passengers by Class')\n",
    "ax.set_xticks(x + width, species)\n",
    "ax.legend(loc='upper left', ncols=2)\n",
    "\n",
    "ax.set_ylim(0, 500)\n",
    "plt.show()"
   ]
  },
  {
   "cell_type": "markdown",
   "id": "167ddd8b",
   "metadata": {},
   "source": [
    "In the class 3 we have the greatest number of passengers (55%)."
   ]
  },
  {
   "cell_type": "markdown",
   "id": "5263b414",
   "metadata": {},
   "source": [
    "<br>"
   ]
  },
  {
   "cell_type": "markdown",
   "id": "09b172be",
   "metadata": {},
   "source": [
    "# Sex and Survived: Yes/No"
   ]
  },
  {
   "cell_type": "markdown",
   "id": "2942195c",
   "metadata": {},
   "source": [
    "### Sex | Survived: Yes"
   ]
  },
  {
   "cell_type": "code",
   "execution_count": null,
   "id": "7d98b0a0",
   "metadata": {},
   "outputs": [
    {
     "data": {
      "text/html": [
       "<div>\n",
       "<style scoped>\n",
       "    .dataframe tbody tr th:only-of-type {\n",
       "        vertical-align: middle;\n",
       "    }\n",
       "\n",
       "    .dataframe tbody tr th {\n",
       "        vertical-align: top;\n",
       "    }\n",
       "\n",
       "    .dataframe thead th {\n",
       "        text-align: right;\n",
       "    }\n",
       "</style>\n",
       "<table border=\"1\" class=\"dataframe\">\n",
       "  <thead>\n",
       "    <tr style=\"text-align: right;\">\n",
       "      <th></th>\n",
       "      <th>Survived</th>\n",
       "      <th>Pclass</th>\n",
       "      <th>Sex</th>\n",
       "      <th>Age</th>\n",
       "    </tr>\n",
       "  </thead>\n",
       "  <tbody>\n",
       "    <tr>\n",
       "      <th>1</th>\n",
       "      <td>1</td>\n",
       "      <td>1</td>\n",
       "      <td>female</td>\n",
       "      <td>38.0</td>\n",
       "    </tr>\n",
       "    <tr>\n",
       "      <th>2</th>\n",
       "      <td>1</td>\n",
       "      <td>3</td>\n",
       "      <td>female</td>\n",
       "      <td>26.0</td>\n",
       "    </tr>\n",
       "    <tr>\n",
       "      <th>3</th>\n",
       "      <td>1</td>\n",
       "      <td>1</td>\n",
       "      <td>female</td>\n",
       "      <td>35.0</td>\n",
       "    </tr>\n",
       "  </tbody>\n",
       "</table>\n",
       "</div>"
      ],
      "text/plain": [
       "   Survived  Pclass     Sex   Age\n",
       "1         1       1  female  38.0\n",
       "2         1       3  female  26.0\n",
       "3         1       1  female  35.0"
      ]
     },
     "execution_count": 104,
     "metadata": {},
     "output_type": "execute_result"
    }
   ],
   "source": [
    "surv_yes = data.loc[(data['Survived']== 1)]\n",
    "surv_yes.head(3)"
   ]
  },
  {
   "cell_type": "code",
   "execution_count": null,
   "id": "287b6f5c",
   "metadata": {},
   "outputs": [
    {
     "data": {
      "text/plain": [
       "Sex\n",
       "female    233\n",
       "male      109\n",
       "Name: count, dtype: int64"
      ]
     },
     "execution_count": 105,
     "metadata": {},
     "output_type": "execute_result"
    }
   ],
   "source": [
    "surv_yes['Sex'].value_counts()"
   ]
  },
  {
   "cell_type": "markdown",
   "id": "51e17430",
   "metadata": {},
   "source": [
    "### Sex | Survived: No"
   ]
  },
  {
   "cell_type": "code",
   "execution_count": null,
   "id": "79f36385",
   "metadata": {},
   "outputs": [
    {
     "data": {
      "text/html": [
       "<div>\n",
       "<style scoped>\n",
       "    .dataframe tbody tr th:only-of-type {\n",
       "        vertical-align: middle;\n",
       "    }\n",
       "\n",
       "    .dataframe tbody tr th {\n",
       "        vertical-align: top;\n",
       "    }\n",
       "\n",
       "    .dataframe thead th {\n",
       "        text-align: right;\n",
       "    }\n",
       "</style>\n",
       "<table border=\"1\" class=\"dataframe\">\n",
       "  <thead>\n",
       "    <tr style=\"text-align: right;\">\n",
       "      <th></th>\n",
       "      <th>Survived</th>\n",
       "      <th>Pclass</th>\n",
       "      <th>Sex</th>\n",
       "      <th>Age</th>\n",
       "    </tr>\n",
       "  </thead>\n",
       "  <tbody>\n",
       "    <tr>\n",
       "      <th>0</th>\n",
       "      <td>0</td>\n",
       "      <td>3</td>\n",
       "      <td>male</td>\n",
       "      <td>22.0</td>\n",
       "    </tr>\n",
       "    <tr>\n",
       "      <th>4</th>\n",
       "      <td>0</td>\n",
       "      <td>3</td>\n",
       "      <td>male</td>\n",
       "      <td>35.0</td>\n",
       "    </tr>\n",
       "    <tr>\n",
       "      <th>5</th>\n",
       "      <td>0</td>\n",
       "      <td>3</td>\n",
       "      <td>male</td>\n",
       "      <td>24.0</td>\n",
       "    </tr>\n",
       "  </tbody>\n",
       "</table>\n",
       "</div>"
      ],
      "text/plain": [
       "   Survived  Pclass   Sex   Age\n",
       "0         0       3  male  22.0\n",
       "4         0       3  male  35.0\n",
       "5         0       3  male  24.0"
      ]
     },
     "execution_count": 106,
     "metadata": {},
     "output_type": "execute_result"
    }
   ],
   "source": [
    "surv_no = data.loc[(data['Survived']== 0)]\n",
    "surv_no.head(3)"
   ]
  },
  {
   "cell_type": "code",
   "execution_count": null,
   "id": "be6d5fd1",
   "metadata": {},
   "outputs": [
    {
     "data": {
      "text/plain": [
       "Sex\n",
       "male      468\n",
       "female     81\n",
       "Name: count, dtype: int64"
      ]
     },
     "execution_count": 108,
     "metadata": {},
     "output_type": "execute_result"
    }
   ],
   "source": [
    "surv_no['Sex'].value_counts()"
   ]
  },
  {
   "cell_type": "code",
   "execution_count": null,
   "id": "f8dd1a57",
   "metadata": {},
   "outputs": [
    {
     "data": {
      "image/png": "[encoded data removed]",
      "text/plain": [
       "<Figure size 600x300 with 1 Axes>"
      ]
     },
     "metadata": {},
     "output_type": "display_data"
    }
   ],
   "source": [
    "species = (\"Surviveds\", \"Deaths\")\n",
    "\n",
    "penguin_means = {\n",
    "    \n",
    "    'Male': (109, 468),\n",
    "    'Female': (233, 81),\n",
    "}\n",
    "\n",
    "\n",
    "x = np.arange(len(species))\n",
    "width = 0.30 \n",
    "multiplier = 0\n",
    "\n",
    "\n",
    "fig, ax = plt.subplots(layout='constrained', figsize =(6, 3))\n",
    "\n",
    "for attribute, measurement in penguin_means.items():\n",
    "    \n",
    "    offset = width * multiplier\n",
    "    \n",
    "    rects = ax.bar(x + offset, measurement, width, \n",
    "                   label=attribute,\n",
    "                   edgecolor=['black'])\n",
    "    \n",
    "    ax.bar_label(rects, padding=2, fmt=lambda x: '{:.2f}%'.format((x / 891) * 100))    \n",
    "    multiplier += 1\n",
    "\n",
    "    \n",
    "ax.set_ylabel('Corresponding Frequency')\n",
    "ax.set_title('Surviveds and Deaths By Sex')\n",
    "ax.set_xticks(x + width, species)\n",
    "ax.legend(loc='upper left', ncols=2)\n",
    "\n",
    "\n",
    "ax.set_ylim(0, 600)\n",
    "plt.show()"
   ]
  },
  {
   "cell_type": "markdown",
   "id": "021af2a3",
   "metadata": {},
   "source": [
    "Regarding the total percentage of deaths (about 62%) considering the total number of passengers, approximately 53% were males."
   ]
  },
  {
   "cell_type": "markdown",
   "id": "f27099c1",
   "metadata": {},
   "source": [
    "<br>"
   ]
  },
  {
   "cell_type": "markdown",
   "id": "afb659ec",
   "metadata": {},
   "source": [
    "# Sex and Class by Surviveds and No Surviveds"
   ]
  },
  {
   "cell_type": "markdown",
   "id": "c29943f3",
   "metadata": {},
   "source": [
    "### Sex | Class 1  | Surviveds"
   ]
  },
  {
   "cell_type": "code",
   "execution_count": null,
   "id": "3ac1058a",
   "metadata": {},
   "outputs": [
    {
     "data": {
      "text/html": [
       "<div>\n",
       "<style scoped>\n",
       "    .dataframe tbody tr th:only-of-type {\n",
       "        vertical-align: middle;\n",
       "    }\n",
       "\n",
       "    .dataframe tbody tr th {\n",
       "        vertical-align: top;\n",
       "    }\n",
       "\n",
       "    .dataframe thead th {\n",
       "        text-align: right;\n",
       "    }\n",
       "</style>\n",
       "<table border=\"1\" class=\"dataframe\">\n",
       "  <thead>\n",
       "    <tr style=\"text-align: right;\">\n",
       "      <th></th>\n",
       "      <th>Survived</th>\n",
       "      <th>Pclass</th>\n",
       "      <th>Sex</th>\n",
       "      <th>Age</th>\n",
       "    </tr>\n",
       "  </thead>\n",
       "  <tbody>\n",
       "    <tr>\n",
       "      <th>1</th>\n",
       "      <td>1</td>\n",
       "      <td>1</td>\n",
       "      <td>female</td>\n",
       "      <td>38.0</td>\n",
       "    </tr>\n",
       "    <tr>\n",
       "      <th>3</th>\n",
       "      <td>1</td>\n",
       "      <td>1</td>\n",
       "      <td>female</td>\n",
       "      <td>35.0</td>\n",
       "    </tr>\n",
       "    <tr>\n",
       "      <th>11</th>\n",
       "      <td>1</td>\n",
       "      <td>1</td>\n",
       "      <td>female</td>\n",
       "      <td>58.0</td>\n",
       "    </tr>\n",
       "  </tbody>\n",
       "</table>\n",
       "</div>"
      ],
      "text/plain": [
       "    Survived  Pclass     Sex   Age\n",
       "1          1       1  female  38.0\n",
       "3          1       1  female  35.0\n",
       "11         1       1  female  58.0"
      ]
     },
     "execution_count": 27,
     "metadata": {},
     "output_type": "execute_result"
    }
   ],
   "source": [
    "sex_class1_surv = data.loc[(data['Pclass']== 1) & (data['Survived']== 1)]\n",
    "sex_class1_surv.head(3)"
   ]
  },
  {
   "cell_type": "code",
   "execution_count": null,
   "id": "8a11ce15",
   "metadata": {},
   "outputs": [
    {
     "data": {
      "text/plain": [
       "Sex\n",
       "female    91\n",
       "male      45\n",
       "Name: count, dtype: int64"
      ]
     },
     "execution_count": 28,
     "metadata": {},
     "output_type": "execute_result"
    }
   ],
   "source": [
    "sex_class1_surv['Sex'].value_counts()"
   ]
  },
  {
   "cell_type": "markdown",
   "id": "896052f1",
   "metadata": {},
   "source": [
    "### Sex | Class 2  | Surviveds"
   ]
  },
  {
   "cell_type": "code",
   "execution_count": null,
   "id": "1fa3bbd1",
   "metadata": {},
   "outputs": [
    {
     "data": {
      "text/html": [
       "<div>\n",
       "<style scoped>\n",
       "    .dataframe tbody tr th:only-of-type {\n",
       "        vertical-align: middle;\n",
       "    }\n",
       "\n",
       "    .dataframe tbody tr th {\n",
       "        vertical-align: top;\n",
       "    }\n",
       "\n",
       "    .dataframe thead th {\n",
       "        text-align: right;\n",
       "    }\n",
       "</style>\n",
       "<table border=\"1\" class=\"dataframe\">\n",
       "  <thead>\n",
       "    <tr style=\"text-align: right;\">\n",
       "      <th></th>\n",
       "      <th>Survived</th>\n",
       "      <th>Pclass</th>\n",
       "      <th>Sex</th>\n",
       "      <th>Age</th>\n",
       "    </tr>\n",
       "  </thead>\n",
       "  <tbody>\n",
       "    <tr>\n",
       "      <th>9</th>\n",
       "      <td>1</td>\n",
       "      <td>2</td>\n",
       "      <td>female</td>\n",
       "      <td>14.0</td>\n",
       "    </tr>\n",
       "    <tr>\n",
       "      <th>15</th>\n",
       "      <td>1</td>\n",
       "      <td>2</td>\n",
       "      <td>female</td>\n",
       "      <td>55.0</td>\n",
       "    </tr>\n",
       "    <tr>\n",
       "      <th>17</th>\n",
       "      <td>1</td>\n",
       "      <td>2</td>\n",
       "      <td>male</td>\n",
       "      <td>24.0</td>\n",
       "    </tr>\n",
       "  </tbody>\n",
       "</table>\n",
       "</div>"
      ],
      "text/plain": [
       "    Survived  Pclass     Sex   Age\n",
       "9          1       2  female  14.0\n",
       "15         1       2  female  55.0\n",
       "17         1       2    male  24.0"
      ]
     },
     "execution_count": 25,
     "metadata": {},
     "output_type": "execute_result"
    }
   ],
   "source": [
    "sex_class2_surv = data.loc[(data['Pclass']== 2) & (data['Survived']== 1)]\n",
    "sex_class2_surv.head(3)"
   ]
  },
  {
   "cell_type": "code",
   "execution_count": null,
   "id": "8c26c014",
   "metadata": {},
   "outputs": [
    {
     "data": {
      "text/plain": [
       "Sex\n",
       "female    70\n",
       "male      17\n",
       "Name: count, dtype: int64"
      ]
     },
     "execution_count": 26,
     "metadata": {},
     "output_type": "execute_result"
    }
   ],
   "source": [
    "sex_class2_surv['Sex'].value_counts()"
   ]
  },
  {
   "cell_type": "markdown",
   "id": "88797a52",
   "metadata": {},
   "source": [
    "### Sex | Class 3  | Surviveds"
   ]
  },
  {
   "cell_type": "code",
   "execution_count": null,
   "id": "bf15a24a",
   "metadata": {},
   "outputs": [
    {
     "data": {
      "text/html": [
       "<div>\n",
       "<style scoped>\n",
       "    .dataframe tbody tr th:only-of-type {\n",
       "        vertical-align: middle;\n",
       "    }\n",
       "\n",
       "    .dataframe tbody tr th {\n",
       "        vertical-align: top;\n",
       "    }\n",
       "\n",
       "    .dataframe thead th {\n",
       "        text-align: right;\n",
       "    }\n",
       "</style>\n",
       "<table border=\"1\" class=\"dataframe\">\n",
       "  <thead>\n",
       "    <tr style=\"text-align: right;\">\n",
       "      <th></th>\n",
       "      <th>Survived</th>\n",
       "      <th>Pclass</th>\n",
       "      <th>Sex</th>\n",
       "      <th>Age</th>\n",
       "    </tr>\n",
       "  </thead>\n",
       "  <tbody>\n",
       "    <tr>\n",
       "      <th>2</th>\n",
       "      <td>1</td>\n",
       "      <td>3</td>\n",
       "      <td>female</td>\n",
       "      <td>26.0</td>\n",
       "    </tr>\n",
       "    <tr>\n",
       "      <th>8</th>\n",
       "      <td>1</td>\n",
       "      <td>3</td>\n",
       "      <td>female</td>\n",
       "      <td>27.0</td>\n",
       "    </tr>\n",
       "    <tr>\n",
       "      <th>10</th>\n",
       "      <td>1</td>\n",
       "      <td>3</td>\n",
       "      <td>female</td>\n",
       "      <td>4.0</td>\n",
       "    </tr>\n",
       "  </tbody>\n",
       "</table>\n",
       "</div>"
      ],
      "text/plain": [
       "    Survived  Pclass     Sex   Age\n",
       "2          1       3  female  26.0\n",
       "8          1       3  female  27.0\n",
       "10         1       3  female   4.0"
      ]
     },
     "execution_count": 30,
     "metadata": {},
     "output_type": "execute_result"
    }
   ],
   "source": [
    "sex_class3_surv = data.loc[(data['Pclass']== 3) & (data['Survived']== 1)]\n",
    "sex_class3_surv.head(3)"
   ]
  },
  {
   "cell_type": "code",
   "execution_count": null,
   "id": "45a9e82c",
   "metadata": {},
   "outputs": [
    {
     "data": {
      "text/plain": [
       "Sex\n",
       "female    72\n",
       "male      47\n",
       "Name: count, dtype: int64"
      ]
     },
     "execution_count": 31,
     "metadata": {},
     "output_type": "execute_result"
    }
   ],
   "source": [
    "sex_class3_surv['Sex'].value_counts()"
   ]
  },
  {
   "cell_type": "markdown",
   "id": "5bd6d78d",
   "metadata": {},
   "source": [
    "<br>"
   ]
  },
  {
   "cell_type": "markdown",
   "id": "2b0c8442",
   "metadata": {},
   "source": [
    "### Sex | Class 1 | Deaths"
   ]
  },
  {
   "cell_type": "code",
   "execution_count": null,
   "id": "a81aa306",
   "metadata": {},
   "outputs": [
    {
     "data": {
      "text/html": [
       "<div>\n",
       "<style scoped>\n",
       "    .dataframe tbody tr th:only-of-type {\n",
       "        vertical-align: middle;\n",
       "    }\n",
       "\n",
       "    .dataframe tbody tr th {\n",
       "        vertical-align: top;\n",
       "    }\n",
       "\n",
       "    .dataframe thead th {\n",
       "        text-align: right;\n",
       "    }\n",
       "</style>\n",
       "<table border=\"1\" class=\"dataframe\">\n",
       "  <thead>\n",
       "    <tr style=\"text-align: right;\">\n",
       "      <th></th>\n",
       "      <th>Survived</th>\n",
       "      <th>Pclass</th>\n",
       "      <th>Sex</th>\n",
       "      <th>Age</th>\n",
       "    </tr>\n",
       "  </thead>\n",
       "  <tbody>\n",
       "    <tr>\n",
       "      <th>6</th>\n",
       "      <td>0</td>\n",
       "      <td>1</td>\n",
       "      <td>male</td>\n",
       "      <td>54.0</td>\n",
       "    </tr>\n",
       "    <tr>\n",
       "      <th>27</th>\n",
       "      <td>0</td>\n",
       "      <td>1</td>\n",
       "      <td>male</td>\n",
       "      <td>19.0</td>\n",
       "    </tr>\n",
       "    <tr>\n",
       "      <th>30</th>\n",
       "      <td>0</td>\n",
       "      <td>1</td>\n",
       "      <td>male</td>\n",
       "      <td>40.0</td>\n",
       "    </tr>\n",
       "  </tbody>\n",
       "</table>\n",
       "</div>"
      ],
      "text/plain": [
       "    Survived  Pclass   Sex   Age\n",
       "6          0       1  male  54.0\n",
       "27         0       1  male  19.0\n",
       "30         0       1  male  40.0"
      ]
     },
     "execution_count": 117,
     "metadata": {},
     "output_type": "execute_result"
    }
   ],
   "source": [
    "sex_class1_deaths = data.loc[(data['Pclass']== 1) & (data['Survived']== 0)]\n",
    "sex_class1_deaths.head(3)"
   ]
  },
  {
   "cell_type": "code",
   "execution_count": null,
   "id": "9e81ac7f",
   "metadata": {},
   "outputs": [
    {
     "data": {
      "text/plain": [
       "Sex\n",
       "male      77\n",
       "female     3\n",
       "Name: count, dtype: int64"
      ]
     },
     "execution_count": 118,
     "metadata": {},
     "output_type": "execute_result"
    }
   ],
   "source": [
    "sex_class1_deaths['Sex'].value_counts()"
   ]
  },
  {
   "cell_type": "markdown",
   "id": "f580ee26",
   "metadata": {},
   "source": [
    "### Sex | Class 2 | Deaths"
   ]
  },
  {
   "cell_type": "code",
   "execution_count": null,
   "id": "ece40031",
   "metadata": {},
   "outputs": [
    {
     "data": {
      "text/html": [
       "<div>\n",
       "<style scoped>\n",
       "    .dataframe tbody tr th:only-of-type {\n",
       "        vertical-align: middle;\n",
       "    }\n",
       "\n",
       "    .dataframe tbody tr th {\n",
       "        vertical-align: top;\n",
       "    }\n",
       "\n",
       "    .dataframe thead th {\n",
       "        text-align: right;\n",
       "    }\n",
       "</style>\n",
       "<table border=\"1\" class=\"dataframe\">\n",
       "  <thead>\n",
       "    <tr style=\"text-align: right;\">\n",
       "      <th></th>\n",
       "      <th>Survived</th>\n",
       "      <th>Pclass</th>\n",
       "      <th>Sex</th>\n",
       "      <th>Age</th>\n",
       "    </tr>\n",
       "  </thead>\n",
       "  <tbody>\n",
       "    <tr>\n",
       "      <th>20</th>\n",
       "      <td>0</td>\n",
       "      <td>2</td>\n",
       "      <td>male</td>\n",
       "      <td>35.0</td>\n",
       "    </tr>\n",
       "    <tr>\n",
       "      <th>33</th>\n",
       "      <td>0</td>\n",
       "      <td>2</td>\n",
       "      <td>male</td>\n",
       "      <td>66.0</td>\n",
       "    </tr>\n",
       "    <tr>\n",
       "      <th>41</th>\n",
       "      <td>0</td>\n",
       "      <td>2</td>\n",
       "      <td>female</td>\n",
       "      <td>27.0</td>\n",
       "    </tr>\n",
       "  </tbody>\n",
       "</table>\n",
       "</div>"
      ],
      "text/plain": [
       "    Survived  Pclass     Sex   Age\n",
       "20         0       2    male  35.0\n",
       "33         0       2    male  66.0\n",
       "41         0       2  female  27.0"
      ]
     },
     "execution_count": 120,
     "metadata": {},
     "output_type": "execute_result"
    }
   ],
   "source": [
    "sex_class2_deaths = data.loc[(data['Pclass']== 2) & (data['Survived']== 0)]\n",
    "sex_class2_deaths.head(3)"
   ]
  },
  {
   "cell_type": "code",
   "execution_count": null,
   "id": "bd167123",
   "metadata": {},
   "outputs": [
    {
     "data": {
      "text/plain": [
       "Sex\n",
       "male      91\n",
       "female     6\n",
       "Name: count, dtype: int64"
      ]
     },
     "execution_count": 121,
     "metadata": {},
     "output_type": "execute_result"
    }
   ],
   "source": [
    "sex_class2_deaths['Sex'].value_counts()"
   ]
  },
  {
   "cell_type": "markdown",
   "id": "b1115ef2",
   "metadata": {},
   "source": [
    "### Sex | Class 3 | Deaths"
   ]
  },
  {
   "cell_type": "code",
   "execution_count": null,
   "id": "f8b46129",
   "metadata": {},
   "outputs": [
    {
     "data": {
      "text/html": [
       "<div>\n",
       "<style scoped>\n",
       "    .dataframe tbody tr th:only-of-type {\n",
       "        vertical-align: middle;\n",
       "    }\n",
       "\n",
       "    .dataframe tbody tr th {\n",
       "        vertical-align: top;\n",
       "    }\n",
       "\n",
       "    .dataframe thead th {\n",
       "        text-align: right;\n",
       "    }\n",
       "</style>\n",
       "<table border=\"1\" class=\"dataframe\">\n",
       "  <thead>\n",
       "    <tr style=\"text-align: right;\">\n",
       "      <th></th>\n",
       "      <th>Survived</th>\n",
       "      <th>Pclass</th>\n",
       "      <th>Sex</th>\n",
       "      <th>Age</th>\n",
       "    </tr>\n",
       "  </thead>\n",
       "  <tbody>\n",
       "    <tr>\n",
       "      <th>0</th>\n",
       "      <td>0</td>\n",
       "      <td>3</td>\n",
       "      <td>male</td>\n",
       "      <td>22.0</td>\n",
       "    </tr>\n",
       "    <tr>\n",
       "      <th>4</th>\n",
       "      <td>0</td>\n",
       "      <td>3</td>\n",
       "      <td>male</td>\n",
       "      <td>35.0</td>\n",
       "    </tr>\n",
       "    <tr>\n",
       "      <th>5</th>\n",
       "      <td>0</td>\n",
       "      <td>3</td>\n",
       "      <td>male</td>\n",
       "      <td>24.0</td>\n",
       "    </tr>\n",
       "  </tbody>\n",
       "</table>\n",
       "</div>"
      ],
      "text/plain": [
       "   Survived  Pclass   Sex   Age\n",
       "0         0       3  male  22.0\n",
       "4         0       3  male  35.0\n",
       "5         0       3  male  24.0"
      ]
     },
     "execution_count": 125,
     "metadata": {},
     "output_type": "execute_result"
    }
   ],
   "source": [
    "sex_class3_deaths = data.loc[(data['Pclass']== 3) & (data['Survived']== 0)]\n",
    "sex_class3_deaths.head(3)"
   ]
  },
  {
   "cell_type": "code",
   "execution_count": null,
   "id": "1d659254",
   "metadata": {},
   "outputs": [
    {
     "data": {
      "text/plain": [
       "Sex\n",
       "male      300\n",
       "female     72\n",
       "Name: count, dtype: int64"
      ]
     },
     "execution_count": 126,
     "metadata": {},
     "output_type": "execute_result"
    }
   ],
   "source": [
    "sex_class3_deaths['Sex'].value_counts()"
   ]
  },
  {
   "cell_type": "code",
   "execution_count": null,
   "id": "0c8f5c93",
   "metadata": {},
   "outputs": [
    {
     "data": {
      "image/png": "[encoded data removed]",
      "text/plain": [
       "<Figure size 1000x500 with 6 Axes>"
      ]
     },
     "metadata": {},
     "output_type": "display_data"
    }
   ],
   "source": [
    "fig, axs = plt.subplots(2, 3, figsize=(10, 5))\n",
    "\n",
    "labels = ['Male', 'Female']\n",
    "\n",
    "\n",
    "#### //// Survivors //////\n",
    "\n",
    "# Surviveds class 1\n",
    "\n",
    "# Some data\n",
    "fracs = [45, 91]\n",
    "\n",
    "axs[0, 0].pie(fracs, autopct='%1.1f%%', shadow=True, explode=(0, 0.1), labels=labels)\n",
    "axs[0, 0].set_title('Class 1 Survivors')\n",
    "\n",
    "#axs[0, 0].legend(ncols=1, labels=labels,\n",
    " #         title=\"Sex\",\n",
    "  #        loc=\"center\",\n",
    "   #       bbox_to_anchor=(1, 0, 0.5, 1))\n",
    "\n",
    "\n",
    "# Surviveds class 2\n",
    "\n",
    "# Some data\n",
    "fracs = [17, 70]\n",
    "\n",
    "axs[0, 1].pie(fracs, labels=labels, autopct='%.0f%%', shadow=True,\n",
    "              explode=(0, 0.1))\n",
    "axs[0, 1].set_title('Class 2 Survivors')\n",
    "\n",
    "\n",
    "# Surviveds class 3\n",
    "\n",
    "# Some data\n",
    "fracs = [47, 72]\n",
    "\n",
    "axs[0, 2].pie(fracs, labels=labels, autopct='%.0f%%', shadow=True,\n",
    "              explode=(0, 0.2))\n",
    "axs[0, 2].set_title('Class 3 Survivors')\n",
    "\n",
    "\n",
    "\n",
    "#### //// Deaths //////\n",
    "\n",
    "# Deaths class 1\n",
    "\n",
    "# Some data\n",
    "fracs = [77, 3]\n",
    "\n",
    "axs[1, 0].pie(fracs, labels=labels, autopct='%.0f%%', shadow=True,\n",
    "              explode=(0, 0.4))\n",
    "axs[1, 0].set_title('Deaths Class 1')\n",
    "\n",
    "\n",
    "# Deaths class 2\n",
    "\n",
    "# Some data\n",
    "fracs = [91, 6]\n",
    "\n",
    "axs[1, 1].pie(fracs, labels=labels, autopct='%.0f%%', shadow=True, \n",
    "              explode=(0, 0.3))\n",
    "axs[1, 1].set_title('Deaths Class 2')\n",
    "\n",
    "\n",
    "# Deaths class 3\n",
    "\n",
    "# Some data\n",
    "fracs = [300, 72]\n",
    "\n",
    "axs[1, 2].pie(fracs, labels=labels, autopct='%.0f%%', shadow=True,\n",
    "              explode=(0, 0.1))\n",
    "axs[1, 2].set_title('Deaths Class 3')\n",
    "\n",
    "\n",
    "\n",
    "plt.show()"
   ]
  },
  {
   "cell_type": "markdown",
   "id": "a9c30afc",
   "metadata": {},
   "source": [
    "*Regarding the total number of deaths in each class, the records computed for males are greater than or equal to 81%.*"
   ]
  },
  {
   "cell_type": "markdown",
   "id": "0e8b282a",
   "metadata": {},
   "source": [
    "<br>"
   ]
  },
  {
   "cell_type": "markdown",
   "id": "066a9c8e",
   "metadata": {},
   "source": [
    "# Class By Survivors and Deaths"
   ]
  },
  {
   "cell_type": "markdown",
   "id": "2936b9d2",
   "metadata": {},
   "source": [
    "### Class 1 | Survivors"
   ]
  },
  {
   "cell_type": "code",
   "execution_count": 130,
   "id": "988efd0a",
   "metadata": {},
   "outputs": [
    {
     "data": {
      "text/html": [
       "<div>\n",
       "<style scoped>\n",
       "    .dataframe tbody tr th:only-of-type {\n",
       "        vertical-align: middle;\n",
       "    }\n",
       "\n",
       "    .dataframe tbody tr th {\n",
       "        vertical-align: top;\n",
       "    }\n",
       "\n",
       "    .dataframe thead th {\n",
       "        text-align: right;\n",
       "    }\n",
       "</style>\n",
       "<table border=\"1\" class=\"dataframe\">\n",
       "  <thead>\n",
       "    <tr style=\"text-align: right;\">\n",
       "      <th></th>\n",
       "      <th>Survived</th>\n",
       "      <th>Pclass</th>\n",
       "      <th>Sex</th>\n",
       "      <th>Age</th>\n",
       "    </tr>\n",
       "  </thead>\n",
       "  <tbody>\n",
       "    <tr>\n",
       "      <th>1</th>\n",
       "      <td>1</td>\n",
       "      <td>1</td>\n",
       "      <td>female</td>\n",
       "      <td>38.0</td>\n",
       "    </tr>\n",
       "    <tr>\n",
       "      <th>3</th>\n",
       "      <td>1</td>\n",
       "      <td>1</td>\n",
       "      <td>female</td>\n",
       "      <td>35.0</td>\n",
       "    </tr>\n",
       "    <tr>\n",
       "      <th>11</th>\n",
       "      <td>1</td>\n",
       "      <td>1</td>\n",
       "      <td>female</td>\n",
       "      <td>58.0</td>\n",
       "    </tr>\n",
       "  </tbody>\n",
       "</table>\n",
       "</div>"
      ],
      "text/plain": [
       "    Survived  Pclass     Sex   Age\n",
       "1          1       1  female  38.0\n",
       "3          1       1  female  35.0\n",
       "11         1       1  female  58.0"
      ]
     },
     "execution_count": 130,
     "metadata": {},
     "output_type": "execute_result"
    }
   ],
   "source": [
    "class1_surv = data.loc[(data['Pclass']== 1) & (data['Survived']== 1)]\n",
    "class1_surv.head(3)"
   ]
  },
  {
   "cell_type": "code",
   "execution_count": 132,
   "id": "615d0a94",
   "metadata": {},
   "outputs": [
    {
     "data": {
      "text/plain": [
       "Pclass\n",
       "1    136\n",
       "Name: count, dtype: int64"
      ]
     },
     "execution_count": 132,
     "metadata": {},
     "output_type": "execute_result"
    }
   ],
   "source": [
    "class1_surv['Pclass'].value_counts()"
   ]
  },
  {
   "cell_type": "markdown",
   "id": "a8afda67",
   "metadata": {},
   "source": [
    "### Class 2 | Survivors"
   ]
  },
  {
   "cell_type": "code",
   "execution_count": 133,
   "id": "83916658",
   "metadata": {},
   "outputs": [
    {
     "data": {
      "text/html": [
       "<div>\n",
       "<style scoped>\n",
       "    .dataframe tbody tr th:only-of-type {\n",
       "        vertical-align: middle;\n",
       "    }\n",
       "\n",
       "    .dataframe tbody tr th {\n",
       "        vertical-align: top;\n",
       "    }\n",
       "\n",
       "    .dataframe thead th {\n",
       "        text-align: right;\n",
       "    }\n",
       "</style>\n",
       "<table border=\"1\" class=\"dataframe\">\n",
       "  <thead>\n",
       "    <tr style=\"text-align: right;\">\n",
       "      <th></th>\n",
       "      <th>Survived</th>\n",
       "      <th>Pclass</th>\n",
       "      <th>Sex</th>\n",
       "      <th>Age</th>\n",
       "    </tr>\n",
       "  </thead>\n",
       "  <tbody>\n",
       "    <tr>\n",
       "      <th>9</th>\n",
       "      <td>1</td>\n",
       "      <td>2</td>\n",
       "      <td>female</td>\n",
       "      <td>14.0</td>\n",
       "    </tr>\n",
       "    <tr>\n",
       "      <th>15</th>\n",
       "      <td>1</td>\n",
       "      <td>2</td>\n",
       "      <td>female</td>\n",
       "      <td>55.0</td>\n",
       "    </tr>\n",
       "    <tr>\n",
       "      <th>17</th>\n",
       "      <td>1</td>\n",
       "      <td>2</td>\n",
       "      <td>male</td>\n",
       "      <td>24.0</td>\n",
       "    </tr>\n",
       "  </tbody>\n",
       "</table>\n",
       "</div>"
      ],
      "text/plain": [
       "    Survived  Pclass     Sex   Age\n",
       "9          1       2  female  14.0\n",
       "15         1       2  female  55.0\n",
       "17         1       2    male  24.0"
      ]
     },
     "execution_count": 133,
     "metadata": {},
     "output_type": "execute_result"
    }
   ],
   "source": [
    "class2_surv = data.loc[(data['Pclass']== 2) & (data['Survived']== 1)]\n",
    "class2_surv.head(3)"
   ]
  },
  {
   "cell_type": "code",
   "execution_count": 135,
   "id": "1f2b6ee4",
   "metadata": {},
   "outputs": [
    {
     "data": {
      "text/plain": [
       "Pclass\n",
       "2    87\n",
       "Name: count, dtype: int64"
      ]
     },
     "execution_count": 135,
     "metadata": {},
     "output_type": "execute_result"
    }
   ],
   "source": [
    "class2_surv['Pclass'].value_counts()"
   ]
  },
  {
   "cell_type": "markdown",
   "id": "5d244fe4",
   "metadata": {},
   "source": [
    "### Class 3 | Survivors"
   ]
  },
  {
   "cell_type": "code",
   "execution_count": 136,
   "id": "6254313e",
   "metadata": {},
   "outputs": [
    {
     "data": {
      "text/html": [
       "<div>\n",
       "<style scoped>\n",
       "    .dataframe tbody tr th:only-of-type {\n",
       "        vertical-align: middle;\n",
       "    }\n",
       "\n",
       "    .dataframe tbody tr th {\n",
       "        vertical-align: top;\n",
       "    }\n",
       "\n",
       "    .dataframe thead th {\n",
       "        text-align: right;\n",
       "    }\n",
       "</style>\n",
       "<table border=\"1\" class=\"dataframe\">\n",
       "  <thead>\n",
       "    <tr style=\"text-align: right;\">\n",
       "      <th></th>\n",
       "      <th>Survived</th>\n",
       "      <th>Pclass</th>\n",
       "      <th>Sex</th>\n",
       "      <th>Age</th>\n",
       "    </tr>\n",
       "  </thead>\n",
       "  <tbody>\n",
       "    <tr>\n",
       "      <th>2</th>\n",
       "      <td>1</td>\n",
       "      <td>3</td>\n",
       "      <td>female</td>\n",
       "      <td>26.0</td>\n",
       "    </tr>\n",
       "    <tr>\n",
       "      <th>8</th>\n",
       "      <td>1</td>\n",
       "      <td>3</td>\n",
       "      <td>female</td>\n",
       "      <td>27.0</td>\n",
       "    </tr>\n",
       "    <tr>\n",
       "      <th>10</th>\n",
       "      <td>1</td>\n",
       "      <td>3</td>\n",
       "      <td>female</td>\n",
       "      <td>4.0</td>\n",
       "    </tr>\n",
       "  </tbody>\n",
       "</table>\n",
       "</div>"
      ],
      "text/plain": [
       "    Survived  Pclass     Sex   Age\n",
       "2          1       3  female  26.0\n",
       "8          1       3  female  27.0\n",
       "10         1       3  female   4.0"
      ]
     },
     "execution_count": 136,
     "metadata": {},
     "output_type": "execute_result"
    }
   ],
   "source": [
    "class3_surv = data.loc[(data['Pclass']== 3) & (data['Survived']== 1)]\n",
    "class3_surv.head(3)"
   ]
  },
  {
   "cell_type": "code",
   "execution_count": 137,
   "id": "22e7009b",
   "metadata": {},
   "outputs": [
    {
     "data": {
      "text/plain": [
       "Pclass\n",
       "3    119\n",
       "Name: count, dtype: int64"
      ]
     },
     "execution_count": 137,
     "metadata": {},
     "output_type": "execute_result"
    }
   ],
   "source": [
    "class3_surv['Pclass'].value_counts()"
   ]
  },
  {
   "cell_type": "markdown",
   "id": "4324e106",
   "metadata": {},
   "source": [
    "<br>"
   ]
  },
  {
   "cell_type": "markdown",
   "id": "496900b3",
   "metadata": {},
   "source": [
    "### Class 1 | Deaths"
   ]
  },
  {
   "cell_type": "code",
   "execution_count": 139,
   "id": "a0afebda",
   "metadata": {},
   "outputs": [
    {
     "data": {
      "text/html": [
       "<div>\n",
       "<style scoped>\n",
       "    .dataframe tbody tr th:only-of-type {\n",
       "        vertical-align: middle;\n",
       "    }\n",
       "\n",
       "    .dataframe tbody tr th {\n",
       "        vertical-align: top;\n",
       "    }\n",
       "\n",
       "    .dataframe thead th {\n",
       "        text-align: right;\n",
       "    }\n",
       "</style>\n",
       "<table border=\"1\" class=\"dataframe\">\n",
       "  <thead>\n",
       "    <tr style=\"text-align: right;\">\n",
       "      <th></th>\n",
       "      <th>Survived</th>\n",
       "      <th>Pclass</th>\n",
       "      <th>Sex</th>\n",
       "      <th>Age</th>\n",
       "    </tr>\n",
       "  </thead>\n",
       "  <tbody>\n",
       "    <tr>\n",
       "      <th>6</th>\n",
       "      <td>0</td>\n",
       "      <td>1</td>\n",
       "      <td>male</td>\n",
       "      <td>54.0</td>\n",
       "    </tr>\n",
       "    <tr>\n",
       "      <th>27</th>\n",
       "      <td>0</td>\n",
       "      <td>1</td>\n",
       "      <td>male</td>\n",
       "      <td>19.0</td>\n",
       "    </tr>\n",
       "    <tr>\n",
       "      <th>30</th>\n",
       "      <td>0</td>\n",
       "      <td>1</td>\n",
       "      <td>male</td>\n",
       "      <td>40.0</td>\n",
       "    </tr>\n",
       "  </tbody>\n",
       "</table>\n",
       "</div>"
      ],
      "text/plain": [
       "    Survived  Pclass   Sex   Age\n",
       "6          0       1  male  54.0\n",
       "27         0       1  male  19.0\n",
       "30         0       1  male  40.0"
      ]
     },
     "execution_count": 139,
     "metadata": {},
     "output_type": "execute_result"
    }
   ],
   "source": [
    "class1_deaths = data.loc[(data['Pclass']== 1) & (data['Survived']== 0)]\n",
    "class1_deaths.head(3)"
   ]
  },
  {
   "cell_type": "code",
   "execution_count": 140,
   "id": "1a0bf451",
   "metadata": {},
   "outputs": [
    {
     "data": {
      "text/plain": [
       "Pclass\n",
       "1    80\n",
       "Name: count, dtype: int64"
      ]
     },
     "execution_count": 140,
     "metadata": {},
     "output_type": "execute_result"
    }
   ],
   "source": [
    "class1_deaths['Pclass'].value_counts()"
   ]
  },
  {
   "cell_type": "markdown",
   "id": "55ca0f70",
   "metadata": {},
   "source": [
    "### Class 2 | Deaths"
   ]
  },
  {
   "cell_type": "code",
   "execution_count": 141,
   "id": "bb245d49",
   "metadata": {},
   "outputs": [
    {
     "data": {
      "text/html": [
       "<div>\n",
       "<style scoped>\n",
       "    .dataframe tbody tr th:only-of-type {\n",
       "        vertical-align: middle;\n",
       "    }\n",
       "\n",
       "    .dataframe tbody tr th {\n",
       "        vertical-align: top;\n",
       "    }\n",
       "\n",
       "    .dataframe thead th {\n",
       "        text-align: right;\n",
       "    }\n",
       "</style>\n",
       "<table border=\"1\" class=\"dataframe\">\n",
       "  <thead>\n",
       "    <tr style=\"text-align: right;\">\n",
       "      <th></th>\n",
       "      <th>Survived</th>\n",
       "      <th>Pclass</th>\n",
       "      <th>Sex</th>\n",
       "      <th>Age</th>\n",
       "    </tr>\n",
       "  </thead>\n",
       "  <tbody>\n",
       "    <tr>\n",
       "      <th>20</th>\n",
       "      <td>0</td>\n",
       "      <td>2</td>\n",
       "      <td>male</td>\n",
       "      <td>35.0</td>\n",
       "    </tr>\n",
       "    <tr>\n",
       "      <th>33</th>\n",
       "      <td>0</td>\n",
       "      <td>2</td>\n",
       "      <td>male</td>\n",
       "      <td>66.0</td>\n",
       "    </tr>\n",
       "    <tr>\n",
       "      <th>41</th>\n",
       "      <td>0</td>\n",
       "      <td>2</td>\n",
       "      <td>female</td>\n",
       "      <td>27.0</td>\n",
       "    </tr>\n",
       "  </tbody>\n",
       "</table>\n",
       "</div>"
      ],
      "text/plain": [
       "    Survived  Pclass     Sex   Age\n",
       "20         0       2    male  35.0\n",
       "33         0       2    male  66.0\n",
       "41         0       2  female  27.0"
      ]
     },
     "execution_count": 141,
     "metadata": {},
     "output_type": "execute_result"
    }
   ],
   "source": [
    "class2_deaths = data.loc[(data['Pclass']== 2) & (data['Survived']== 0)]\n",
    "class2_deaths.head(3)"
   ]
  },
  {
   "cell_type": "code",
   "execution_count": 142,
   "id": "c1612eb4",
   "metadata": {},
   "outputs": [
    {
     "data": {
      "text/plain": [
       "Pclass\n",
       "2    97\n",
       "Name: count, dtype: int64"
      ]
     },
     "execution_count": 142,
     "metadata": {},
     "output_type": "execute_result"
    }
   ],
   "source": [
    "class2_deaths['Pclass'].value_counts()"
   ]
  },
  {
   "cell_type": "markdown",
   "id": "a507e043",
   "metadata": {},
   "source": [
    "### Class 3 | Deaths"
   ]
  },
  {
   "cell_type": "code",
   "execution_count": 143,
   "id": "7b21e596",
   "metadata": {},
   "outputs": [
    {
     "data": {
      "text/html": [
       "<div>\n",
       "<style scoped>\n",
       "    .dataframe tbody tr th:only-of-type {\n",
       "        vertical-align: middle;\n",
       "    }\n",
       "\n",
       "    .dataframe tbody tr th {\n",
       "        vertical-align: top;\n",
       "    }\n",
       "\n",
       "    .dataframe thead th {\n",
       "        text-align: right;\n",
       "    }\n",
       "</style>\n",
       "<table border=\"1\" class=\"dataframe\">\n",
       "  <thead>\n",
       "    <tr style=\"text-align: right;\">\n",
       "      <th></th>\n",
       "      <th>Survived</th>\n",
       "      <th>Pclass</th>\n",
       "      <th>Sex</th>\n",
       "      <th>Age</th>\n",
       "    </tr>\n",
       "  </thead>\n",
       "  <tbody>\n",
       "    <tr>\n",
       "      <th>0</th>\n",
       "      <td>0</td>\n",
       "      <td>3</td>\n",
       "      <td>male</td>\n",
       "      <td>22.0</td>\n",
       "    </tr>\n",
       "    <tr>\n",
       "      <th>4</th>\n",
       "      <td>0</td>\n",
       "      <td>3</td>\n",
       "      <td>male</td>\n",
       "      <td>35.0</td>\n",
       "    </tr>\n",
       "    <tr>\n",
       "      <th>5</th>\n",
       "      <td>0</td>\n",
       "      <td>3</td>\n",
       "      <td>male</td>\n",
       "      <td>24.0</td>\n",
       "    </tr>\n",
       "  </tbody>\n",
       "</table>\n",
       "</div>"
      ],
      "text/plain": [
       "   Survived  Pclass   Sex   Age\n",
       "0         0       3  male  22.0\n",
       "4         0       3  male  35.0\n",
       "5         0       3  male  24.0"
      ]
     },
     "execution_count": 143,
     "metadata": {},
     "output_type": "execute_result"
    }
   ],
   "source": [
    "class3_deaths = data.loc[(data['Pclass']== 3) & (data['Survived']== 0)]\n",
    "class3_deaths.head(3)"
   ]
  },
  {
   "cell_type": "code",
   "execution_count": 144,
   "id": "43acfc65",
   "metadata": {},
   "outputs": [
    {
     "data": {
      "text/plain": [
       "Pclass\n",
       "3    372\n",
       "Name: count, dtype: int64"
      ]
     },
     "execution_count": 144,
     "metadata": {},
     "output_type": "execute_result"
    }
   ],
   "source": [
    "class3_deaths['Pclass'].value_counts()"
   ]
  },
  {
   "cell_type": "code",
   "execution_count": 17,
   "id": "ad666223",
   "metadata": {},
   "outputs": [
    {
     "data": {
      "image/png": "[encoded data removed]",
      "text/plain": [
       "<Figure size 1000x500 with 3 Axes>"
      ]
     },
     "metadata": {},
     "output_type": "display_data"
    }
   ],
   "source": [
    "fig, axs = plt.subplots(1, 3, figsize=(10, 5))\n",
    "\n",
    "labels = ['Survivors', 'Deaths']\n",
    "colors=['purple', 'gray']\n",
    "\n",
    "\n",
    "# class 1\n",
    "\n",
    "# Some data\n",
    "fracs = [136, 80]\n",
    "\n",
    "axs[0].pie(fracs, autopct='%1.1f%%', shadow=True, \n",
    "              explode=(0, 0.1), labels=labels, colors=colors)\n",
    "axs[0].set_title('Class 1')\n",
    "\n",
    "        \n",
    "# class 2\n",
    "\n",
    "# Some data\n",
    "fracs = [87, 97]\n",
    "\n",
    "axs[1].pie(fracs, labels=labels, autopct='%.0f%%', shadow=True, colors=colors,\n",
    "              explode=(0, 0.1))\n",
    "axs[1].set_title('Class 2')\n",
    "\n",
    "\n",
    "\n",
    "# class 3\n",
    "\n",
    "# Some data\n",
    "fracs = [119, 372]\n",
    "\n",
    "axs[2].pie(fracs, labels=labels, autopct='%.0f%%', shadow=True, colors=colors,\n",
    "              explode=(0, 0.2))\n",
    "axs[2].set_title('Class 3')\n",
    "\n",
    "\n",
    "plt.show()"
   ]
  },
  {
   "cell_type": "markdown",
   "id": "dc0b1264",
   "metadata": {},
   "source": [
    "*Class 3 has the highest number of deaths.*"
   ]
  }
 ],
 "metadata": {
  "kernelspec": {
   "display_name": "Python 3 (ipykernel)",
   "language": "python",
   "name": "python3"
  },
  "language_info": {
   "codemirror_mode": {
    "name": "ipython",
    "version": 3
   },
   "file_extension": ".py",
   "mimetype": "text/x-python",
   "name": "python",
   "nbconvert_exporter": "python",
   "pygments_lexer": "ipython3",
   "version": "3.10.6"
  }
 },
 "nbformat": 4,
 "nbformat_minor": 5
}
